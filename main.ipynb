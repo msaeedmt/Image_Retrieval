{
  "nbformat": 4,
  "nbformat_minor": 0,
  "metadata": {
    "colab": {
      "provenance": []
    },
    "kernelspec": {
      "name": "python3",
      "display_name": "Python 3"
    },
    "language_info": {
      "name": "python"
    },
    "gpuClass": "standard",
    "accelerator": "GPU"
  },
  "cells": [
    {
      "cell_type": "code",
      "source": [
        "# !wget -P pictures/ https://www.robots.ox.ac.uk/~vgg/data/flowers/102/102flowers.tgz"
      ],
      "metadata": {
        "id": "A9fugqoBz8EU"
      },
      "execution_count": null,
      "outputs": []
    },
    {
      "cell_type": "code",
      "source": [
        "# !tar -xzvf pictures/102flowers.tgz -C \"/content/gdrive/MyDrive/AIRoshan/pictures/\""
      ],
      "metadata": {
        "id": "ey1f2Gqc0pal"
      },
      "execution_count": null,
      "outputs": []
    },
    {
      "cell_type": "code",
      "execution_count": null,
      "metadata": {
        "id": "qU0RHW42ntvp"
      },
      "outputs": [],
      "source": [
        "import random\n",
        "from keras import backend as K\n",
        "import matplotlib.pyplot as plt\n",
        "from PIL import Image as pImage\n",
        "from keras.models import Model\n",
        "from tensorflow.keras.preprocessing import image as kImage\n",
        "from tensorflow.keras.applications.resnet50 import ResNet50\n",
        "from tensorflow.keras.applications.resnet50 import ResNet50\n",
        "from keras.applications.vgg16 import VGG16, preprocess_input\n",
        "from tensorflow.keras.applications.resnet50 import preprocess_input, decode_predictions\n",
        "from sklearn.metrics import roc_curve\n",
        "from sklearn.metrics import roc_auc_score\n",
        "from matplotlib.pyplot import figure\n",
        "import json\n",
        "import scipy.io\n",
        "import numpy as np\n",
        "from sklearn.model_selection import train_test_split\n",
        "from tensorflow.keras.layers import Dense, Flatten, GlobalAveragePooling2D, Dropout, Input, Layer\n",
        "from tensorflow.keras.models import Sequential\n",
        "from tensorflow.keras.optimizers import Adam, SGD\n",
        "import tensorflow as tf\n",
        "import pickle\n",
        "import pandas as pd\n",
        "from keras_preprocessing.image import ImageDataGenerator\n",
        "from keras import regularizers, optimizers\n",
        "from keras import losses"
      ]
    },
    {
      "cell_type": "code",
      "source": [
        "from google.colab import drive\n",
        "drive.mount(\"/content/gdrive\")"
      ],
      "metadata": {
        "colab": {
          "base_uri": "https://localhost:8080/"
        },
        "id": "k3npX1Gmr4mM",
        "outputId": "32163442-88a8-4c28-fd53-64a742f11700"
      },
      "execution_count": null,
      "outputs": [
        {
          "output_type": "stream",
          "name": "stdout",
          "text": [
            "Mounted at /content/gdrive\n"
          ]
        }
      ]
    },
    {
      "cell_type": "code",
      "source": [
        "BASE_ADDRESS = '/content/gdrive/MyDrive/AIRoshan/pictures/jpg'"
      ],
      "metadata": {
        "id": "bOsZF5E-skrB"
      },
      "execution_count": null,
      "outputs": []
    },
    {
      "cell_type": "code",
      "source": [
        "!wget -P pictures/ https://www.robots.ox.ac.uk/~vgg/data/flowers/102/imagelabels.mat"
      ],
      "metadata": {
        "colab": {
          "base_uri": "https://localhost:8080/"
        },
        "id": "07CpFiF62gfS",
        "outputId": "8fedf766-eccd-4c93-c9dd-2514a75e66f9"
      },
      "execution_count": null,
      "outputs": [
        {
          "output_type": "stream",
          "name": "stdout",
          "text": [
            "--2022-08-19 09:32:49--  https://www.robots.ox.ac.uk/~vgg/data/flowers/102/imagelabels.mat\n",
            "Resolving www.robots.ox.ac.uk (www.robots.ox.ac.uk)... 129.67.94.2\n",
            "Connecting to www.robots.ox.ac.uk (www.robots.ox.ac.uk)|129.67.94.2|:443... connected.\n",
            "HTTP request sent, awaiting response... 200 OK\n",
            "Length: 502\n",
            "Saving to: ‘pictures/imagelabels.mat’\n",
            "\n",
            "imagelabels.mat     100%[===================>]     502  --.-KB/s    in 0s      \n",
            "\n",
            "2022-08-19 09:32:50 (12.3 MB/s) - ‘pictures/imagelabels.mat’ saved [502/502]\n",
            "\n"
          ]
        }
      ]
    },
    {
      "cell_type": "code",
      "source": [
        "mat = scipy.io.loadmat('pictures/imagelabels.mat')\n",
        "labels = mat['labels'][0]\n",
        "unique, counts = np.unique(labels, return_counts=True)"
      ],
      "metadata": {
        "id": "4meUfLW_xxFs"
      },
      "execution_count": null,
      "outputs": []
    },
    {
      "cell_type": "code",
      "source": [
        "def makeImagePath(imgNumber):\n",
        "    imgNumber = str(imgNumber)\n",
        "    while(len(imgNumber) < 5):\n",
        "        imgNumber = '0' + imgNumber\n",
        "    imagePath = f'image_{imgNumber}.jpg'\n",
        "    return imagePath"
      ],
      "metadata": {
        "id": "R9HyJG2PoHWz"
      },
      "execution_count": null,
      "outputs": []
    },
    {
      "cell_type": "code",
      "source": [
        "data = {\n",
        "  'fileName': list(range(1, labels.shape[0] + 1)),\n",
        "  'label': labels.tolist()\n",
        "}\n",
        "\n",
        "all_df = pd.DataFrame(data)\n",
        "all_df['fileName'] = all_df['fileName'].apply(makeImagePath)\n",
        "all_df['label'] = all_df['label']\n",
        "all_df.head()"
      ],
      "metadata": {
        "colab": {
          "base_uri": "https://localhost:8080/",
          "height": 206
        },
        "id": "qMP9ZyeIlaj_",
        "outputId": "aaf5a5cc-75f1-41ee-dd60-4f9eb843224d"
      },
      "execution_count": null,
      "outputs": [
        {
          "output_type": "execute_result",
          "data": {
            "text/plain": [
              "          fileName  label\n",
              "0  image_00001.jpg     77\n",
              "1  image_00002.jpg     77\n",
              "2  image_00003.jpg     77\n",
              "3  image_00004.jpg     77\n",
              "4  image_00005.jpg     77"
            ],
            "text/html": [
              "\n",
              "  <div id=\"df-85bcda81-e135-4547-8df6-7d7fc274703c\">\n",
              "    <div class=\"colab-df-container\">\n",
              "      <div>\n",
              "<style scoped>\n",
              "    .dataframe tbody tr th:only-of-type {\n",
              "        vertical-align: middle;\n",
              "    }\n",
              "\n",
              "    .dataframe tbody tr th {\n",
              "        vertical-align: top;\n",
              "    }\n",
              "\n",
              "    .dataframe thead th {\n",
              "        text-align: right;\n",
              "    }\n",
              "</style>\n",
              "<table border=\"1\" class=\"dataframe\">\n",
              "  <thead>\n",
              "    <tr style=\"text-align: right;\">\n",
              "      <th></th>\n",
              "      <th>fileName</th>\n",
              "      <th>label</th>\n",
              "    </tr>\n",
              "  </thead>\n",
              "  <tbody>\n",
              "    <tr>\n",
              "      <th>0</th>\n",
              "      <td>image_00001.jpg</td>\n",
              "      <td>77</td>\n",
              "    </tr>\n",
              "    <tr>\n",
              "      <th>1</th>\n",
              "      <td>image_00002.jpg</td>\n",
              "      <td>77</td>\n",
              "    </tr>\n",
              "    <tr>\n",
              "      <th>2</th>\n",
              "      <td>image_00003.jpg</td>\n",
              "      <td>77</td>\n",
              "    </tr>\n",
              "    <tr>\n",
              "      <th>3</th>\n",
              "      <td>image_00004.jpg</td>\n",
              "      <td>77</td>\n",
              "    </tr>\n",
              "    <tr>\n",
              "      <th>4</th>\n",
              "      <td>image_00005.jpg</td>\n",
              "      <td>77</td>\n",
              "    </tr>\n",
              "  </tbody>\n",
              "</table>\n",
              "</div>\n",
              "      <button class=\"colab-df-convert\" onclick=\"convertToInteractive('df-85bcda81-e135-4547-8df6-7d7fc274703c')\"\n",
              "              title=\"Convert this dataframe to an interactive table.\"\n",
              "              style=\"display:none;\">\n",
              "        \n",
              "  <svg xmlns=\"http://www.w3.org/2000/svg\" height=\"24px\"viewBox=\"0 0 24 24\"\n",
              "       width=\"24px\">\n",
              "    <path d=\"M0 0h24v24H0V0z\" fill=\"none\"/>\n",
              "    <path d=\"M18.56 5.44l.94 2.06.94-2.06 2.06-.94-2.06-.94-.94-2.06-.94 2.06-2.06.94zm-11 1L8.5 8.5l.94-2.06 2.06-.94-2.06-.94L8.5 2.5l-.94 2.06-2.06.94zm10 10l.94 2.06.94-2.06 2.06-.94-2.06-.94-.94-2.06-.94 2.06-2.06.94z\"/><path d=\"M17.41 7.96l-1.37-1.37c-.4-.4-.92-.59-1.43-.59-.52 0-1.04.2-1.43.59L10.3 9.45l-7.72 7.72c-.78.78-.78 2.05 0 2.83L4 21.41c.39.39.9.59 1.41.59.51 0 1.02-.2 1.41-.59l7.78-7.78 2.81-2.81c.8-.78.8-2.07 0-2.86zM5.41 20L4 18.59l7.72-7.72 1.47 1.35L5.41 20z\"/>\n",
              "  </svg>\n",
              "      </button>\n",
              "      \n",
              "  <style>\n",
              "    .colab-df-container {\n",
              "      display:flex;\n",
              "      flex-wrap:wrap;\n",
              "      gap: 12px;\n",
              "    }\n",
              "\n",
              "    .colab-df-convert {\n",
              "      background-color: #E8F0FE;\n",
              "      border: none;\n",
              "      border-radius: 50%;\n",
              "      cursor: pointer;\n",
              "      display: none;\n",
              "      fill: #1967D2;\n",
              "      height: 32px;\n",
              "      padding: 0 0 0 0;\n",
              "      width: 32px;\n",
              "    }\n",
              "\n",
              "    .colab-df-convert:hover {\n",
              "      background-color: #E2EBFA;\n",
              "      box-shadow: 0px 1px 2px rgba(60, 64, 67, 0.3), 0px 1px 3px 1px rgba(60, 64, 67, 0.15);\n",
              "      fill: #174EA6;\n",
              "    }\n",
              "\n",
              "    [theme=dark] .colab-df-convert {\n",
              "      background-color: #3B4455;\n",
              "      fill: #D2E3FC;\n",
              "    }\n",
              "\n",
              "    [theme=dark] .colab-df-convert:hover {\n",
              "      background-color: #434B5C;\n",
              "      box-shadow: 0px 1px 3px 1px rgba(0, 0, 0, 0.15);\n",
              "      filter: drop-shadow(0px 1px 2px rgba(0, 0, 0, 0.3));\n",
              "      fill: #FFFFFF;\n",
              "    }\n",
              "  </style>\n",
              "\n",
              "      <script>\n",
              "        const buttonEl =\n",
              "          document.querySelector('#df-85bcda81-e135-4547-8df6-7d7fc274703c button.colab-df-convert');\n",
              "        buttonEl.style.display =\n",
              "          google.colab.kernel.accessAllowed ? 'block' : 'none';\n",
              "\n",
              "        async function convertToInteractive(key) {\n",
              "          const element = document.querySelector('#df-85bcda81-e135-4547-8df6-7d7fc274703c');\n",
              "          const dataTable =\n",
              "            await google.colab.kernel.invokeFunction('convertToInteractive',\n",
              "                                                     [key], {});\n",
              "          if (!dataTable) return;\n",
              "\n",
              "          const docLinkHtml = 'Like what you see? Visit the ' +\n",
              "            '<a target=\"_blank\" href=https://colab.research.google.com/notebooks/data_table.ipynb>data table notebook</a>'\n",
              "            + ' to learn more about interactive tables.';\n",
              "          element.innerHTML = '';\n",
              "          dataTable['output_type'] = 'display_data';\n",
              "          await google.colab.output.renderOutput(dataTable, element);\n",
              "          const docLink = document.createElement('div');\n",
              "          docLink.innerHTML = docLinkHtml;\n",
              "          element.appendChild(docLink);\n",
              "        }\n",
              "      </script>\n",
              "    </div>\n",
              "  </div>\n",
              "  "
            ]
          },
          "metadata": {},
          "execution_count": 8
        }
      ]
    },
    {
      "cell_type": "code",
      "source": [
        "test_classes = list(range(1, 20))\n",
        "\n",
        "test_df = all_df[all_df['label'].isin(test_classes)]\n",
        "train_df = all_df.drop(test_df.index)\n",
        "train_df['label'] = train_df['label'] - 20\n",
        "val_df = train_df.sample(frac=0.2, random_state=42)\n",
        "train_df = train_df.drop(val_df.index)\n",
        "\n",
        "train_df = train_df.sample(frac=1, random_state=42)\n",
        "val_df = val_df.sample(frac=1, random_state=42)"
      ],
      "metadata": {
        "id": "H-fxZIqqo4ZE"
      },
      "execution_count": null,
      "outputs": []
    },
    {
      "cell_type": "code",
      "source": [
        "test_df.reset_index(inplace=True)\n",
        "train_df.reset_index(inplace=True)\n",
        "val_df.reset_index(inplace=True)"
      ],
      "metadata": {
        "id": "tzcM9rNLGjcV"
      },
      "execution_count": null,
      "outputs": []
    },
    {
      "cell_type": "code",
      "source": [
        "val_df['label'].min()"
      ],
      "metadata": {
        "colab": {
          "base_uri": "https://localhost:8080/"
        },
        "id": "uKOhxkg7WFXT",
        "outputId": "42bf3cfb-81dc-4d3e-9780-c8cf97715c89"
      },
      "execution_count": null,
      "outputs": [
        {
          "output_type": "execute_result",
          "data": {
            "text/plain": [
              "0"
            ]
          },
          "metadata": {},
          "execution_count": 11
        }
      ]
    },
    {
      "cell_type": "code",
      "source": [
        "labels[1746 -1]"
      ],
      "metadata": {
        "colab": {
          "base_uri": "https://localhost:8080/"
        },
        "id": "C3JeFyHNbBfF",
        "outputId": "37531f23-0d97-4297-ddfe-4c6965952008"
      },
      "execution_count": null,
      "outputs": [
        {
          "output_type": "execute_result",
          "data": {
            "text/plain": [
              "83"
            ]
          },
          "metadata": {},
          "execution_count": 12
        }
      ]
    },
    {
      "cell_type": "code",
      "source": [
        "datagen = ImageDataGenerator(rescale=1./255, validation_split=0.2)\n",
        "\n",
        "train_generator = datagen.flow_from_dataframe(\n",
        "dataframe=train_df,\n",
        "directory=BASE_ADDRESS,\n",
        "x_col=\"fileName\",\n",
        "y_col=\"label\",\n",
        "subset=\"training\",\n",
        "batch_size=128,\n",
        "seed=42,\n",
        "shuffle=True,\n",
        "class_mode=\"categorical\",\n",
        "target_size=(80,80))\n",
        "\n",
        "valid_generator=datagen.flow_from_dataframe(\n",
        "dataframe=train_df,\n",
        "directory=BASE_ADDRESS,\n",
        "x_col=\"fileName\",\n",
        "y_col=\"label\",\n",
        "subset=\"validation\",\n",
        "batch_size=128,\n",
        "seed=42,\n",
        "shuffle=True,\n",
        "class_mode=\"categorical\",\n",
        "target_size=(80,80))"
      ],
      "metadata": {
        "colab": {
          "base_uri": "https://localhost:8080/"
        },
        "id": "GY4T1c0dsBs2",
        "outputId": "77682533-de5c-4e1e-8417-21cea44a6f23"
      },
      "execution_count": null,
      "outputs": [
        {
          "output_type": "stream",
          "name": "stdout",
          "text": [
            "Found 5672 validated image filenames belonging to 83 classes.\n",
            "Found 1418 validated image filenames belonging to 83 classes.\n"
          ]
        }
      ]
    },
    {
      "cell_type": "code",
      "source": [
        "X, y = valid_generator.next()"
      ],
      "metadata": {
        "id": "MB6S5jveknbt"
      },
      "execution_count": null,
      "outputs": []
    },
    {
      "cell_type": "code",
      "source": [
        "plt.imshow(X[7])"
      ],
      "metadata": {
        "colab": {
          "base_uri": "https://localhost:8080/",
          "height": 285
        },
        "id": "rM1c_96GjMv7",
        "outputId": "6b473c2b-ac69-4c15-fe57-852a3516badd"
      },
      "execution_count": null,
      "outputs": [
        {
          "output_type": "execute_result",
          "data": {
            "text/plain": [
              "<matplotlib.image.AxesImage at 0x7f4990043fd0>"
            ]
          },
          "metadata": {},
          "execution_count": 47
        },
        {
          "output_type": "display_data",
          "data": {
            "text/plain": [
              "<Figure size 432x288 with 1 Axes>"
            ],
            "image/png": "[encoded data removed]"
          },
          "metadata": {
            "needs_background": "light"
          }
        }
      ]
    },
    {
      "cell_type": "code",
      "source": [
        "test_datagen=ImageDataGenerator(rescale=1./255)\n",
        "\n",
        "test_generator=test_datagen.flow_from_dataframe(\n",
        "dataframe=test_df,\n",
        "directory=BASE_ADDRESS,\n",
        "x_col=\"fileName\",\n",
        "y_col=None,\n",
        "batch_size=1,\n",
        "seed=42,\n",
        "shuffle=False,\n",
        "class_mode=None,\n",
        "target_size=(500,500))"
      ],
      "metadata": {
        "colab": {
          "base_uri": "https://localhost:8080/"
        },
        "id": "487nHRyeubid",
        "outputId": "75c360e8-dd9d-462e-98b3-c8508c14a5ea"
      },
      "execution_count": null,
      "outputs": [
        {
          "output_type": "stream",
          "name": "stdout",
          "text": [
            "Found 1099 validated image filenames.\n"
          ]
        }
      ]
    },
    {
      "cell_type": "code",
      "source": [
        "# base_model = ResNet50(include_top=False, weights='imagenet', input_shape=(500, 500, 3))\n",
        "\n",
        "# x = base_model.output\n",
        "# x = GlobalAveragePooling2D()(x)\n",
        "# # x = Flatten(x)\n",
        "# x = Dense(512, activation='relu')(x)\n",
        "# # x = Dropout(0.5)(x)\n",
        "# # x = Dense(316, activation='relu')(x)\n",
        "# predictions = Dense(83, activation='softmax')(x)\n",
        "# model = Model(inputs=base_model.input, outputs=predictions)\n",
        "\n",
        "# for layer in base_model.layers:\n",
        "#     layer.trainable = False\n",
        "\n",
        "# model.compile(optimizer=SGD(learning_rate=0.01, momentum=0.9), loss='categorical_crossentropy', metrics=['accuracy'])"
      ],
      "metadata": {
        "id": "wPpRnBOD9Qxr"
      },
      "execution_count": null,
      "outputs": []
    },
    {
      "cell_type": "code",
      "source": [
        "class CustomDataGen(tf.keras.utils.Sequence):\n",
        "\n",
        "    def __init__(self, df, directory, X_col, y_col, batch_size, seed, shuffle, target_size=(100, 100), rescale=1./255.):\n",
        "        self.df = df.copy()\n",
        "        self.directory = directory\n",
        "        self.X_col = X_col\n",
        "        self.y_col = y_col\n",
        "        self.batch_size = batch_size\n",
        "        self.seed = seed\n",
        "        self.shuffle = shuffle\n",
        "        self.target_size = target_size\n",
        "        self.rescale = rescale\n",
        "\n",
        "        self.n = len(self.df)\n",
        "        self.n_classes = df['label'].nunique()\n",
        "\n",
        "    def __len__(self):\n",
        "        return self.n // self.batch_size\n",
        "\n",
        "    def __getitem__(self, index):\n",
        "        batch = self.df[index * self.batch_size:(index + 1) * self.batch_size]\n",
        "        X, y = self.__get_data(batch)\n",
        "        return X, y\n",
        "\n",
        "    def on_epoche_end(self):\n",
        "        if self.shuffle:\n",
        "          self.df = self.df.sample(frac=1).reset_index(drop=True)\n",
        "\n",
        "    def __get_data(self, batch):\n",
        "      pathes = batch[self.X_col]\n",
        "      labels = batch[self.y_col]\n",
        "\n",
        "      X_batch_img = np.asarray([self.__get_input_img(path) for path in pathes])\n",
        "      X_batch_labels = np.asarray([self.__get_label(label) for label in labels])\n",
        "\n",
        "      y_batch_labels = np.asarray([self.__get_label(label) for label in labels])\n",
        "      y_batch_dummy = np.zeros((y_batch_labels.shape[0], 1))\n",
        "\n",
        "      return tuple([X_batch_img, X_batch_labels]), tuple([y_batch_labels, y_batch_dummy])\n",
        "\n",
        "    def __get_input_img(self, path):\n",
        "        image = tf.keras.preprocessing.image.load_img(f'{BASE_ADDRESS}/{path}')\n",
        "        image_arr = tf.keras.preprocessing.image.img_to_array(image)\n",
        "\n",
        "        image_arr = tf.image.resize(image_arr, self.target_size).numpy()\n",
        "\n",
        "        return image_arr * self.rescale\n",
        "\n",
        "    def __get_label(self, label):\n",
        "      return tf.keras.utils.to_categorical(label, num_classes=self.n_classes)"
      ],
      "metadata": {
        "id": "9iBhiA9KDuy1"
      },
      "execution_count": null,
      "outputs": []
    },
    {
      "cell_type": "code",
      "source": [
        "batch_size = 128\n",
        "\n",
        "train_gen = CustomDataGen(train_df,\n",
        "                          X_col='fileName',\n",
        "                          directory=BASE_ADDRESS,\n",
        "                          y_col='label',\n",
        "                          batch_size=batch_size,\n",
        "                          seed=42,\n",
        "                          shuffle=True\n",
        "    )\n",
        "\n",
        "val_gen = CustomDataGen( val_df,\n",
        "                         directory=BASE_ADDRESS,\n",
        "                         X_col='fileName',\n",
        "                         y_col='label',\n",
        "                         batch_size=batch_size,\n",
        "                         seed=42,\n",
        "                         shuffle=True\n",
        "    )"
      ],
      "metadata": {
        "id": "qQjbCNJwDv86"
      },
      "execution_count": null,
      "outputs": []
    },
    {
      "cell_type": "code",
      "source": [
        "# base_model = ResNet50(include_top=False, weights='imagenet', input_shape=(500, 500, 3))\n",
        "base_model = ResNet50(include_top=False,weights='imagenet',input_shape=(100,100,3),classes=83)"
      ],
      "metadata": {
        "id": "-nfDHKuoC2Br"
      },
      "execution_count": null,
      "outputs": []
    },
    {
      "cell_type": "code",
      "source": [
        "model=Sequential()\n",
        "#Add the Dense layers along with activation and batch normalization\n",
        "model.add(base_model)\n",
        "model.add(Flatten())\n",
        "\n",
        "\n",
        "#Add the Dense layers along with activation and batch normalization\n",
        "model.add(Dense(4000,activation=('relu'),input_dim=512))\n",
        "model.add(Dense(2000,activation=('relu')))\n",
        "model.add(Dropout(.4))\n",
        "model.add(Dense(1000,activation=('relu')))\n",
        "model.add(Dropout(.3))#Adding a dropout layer that will randomly drop 30% of the weights\n",
        "model.add(Dense(500,activation=('relu')))\n",
        "model.add(Dropout(.2))\n",
        "model.add(Dense(83,activation=('softmax'))) #"
      ],
      "metadata": {
        "id": "hlJtKXB9Cyfw"
      },
      "execution_count": null,
      "outputs": []
    },
    {
      "cell_type": "markdown",
      "source": [
        "# not sequential model"
      ],
      "metadata": {
        "id": "Ap0j2ObrjjwD"
      }
    },
    {
      "cell_type": "code",
      "source": [
        "class CenterLossLayer(Layer):\n",
        "\n",
        "    def __init__(self, alpha=0.5, **kwargs):\n",
        "        super().__init__(**kwargs)\n",
        "        self.alpha = alpha\n",
        "\n",
        "    def build(self, input_shape):\n",
        "        self.centers = self.add_weight(name='centers',\n",
        "                                       shape=(83, 500),\n",
        "                                       initializer='uniform',\n",
        "                                       trainable=False)\n",
        "        super().build(input_shape)\n",
        "\n",
        "    def call(self, x, mask=None):\n",
        "\n",
        "        # x[0] is Nx2, x[1] is Nx10 onehot, self.centers is 10x2\n",
        "        delta_centers = K.dot(K.transpose(x[1]), (K.dot(x[1], self.centers) - x[0]))  # 10x2\n",
        "        center_counts = K.sum(K.transpose(x[1]), axis=1, keepdims=True) + 1  # 10x1\n",
        "        delta_centers /= center_counts\n",
        "        new_centers = self.centers - self.alpha * delta_centers\n",
        "        self.add_update((self.centers, new_centers), x)\n",
        "\n",
        "        self.result = x[0] - K.dot(x[1], self.centers)\n",
        "        self.result = K.sum(self.result ** 2, axis=1, keepdims=True) / 500 #/ K.dot(x[1], center_counts)\n",
        "        print(self.centers)\n",
        "        print(self.result)\n",
        "        return self.result # Nx1\n",
        "\n",
        "    def compute_output_shape(self, input_shape):\n",
        "        return K.int_shape(self.result)"
      ],
      "metadata": {
        "id": "nWlVNjUgwZWv"
      },
      "execution_count": null,
      "outputs": []
    },
    {
      "cell_type": "code",
      "source": [
        "def ir_model(x, labels):\n",
        "    K.clear_session()\n",
        "    x = base_model.output\n",
        "\n",
        "    x = Flatten()(x)\n",
        "    x = Dense(4000, activation=('relu'), input_dim=512)(x)\n",
        "    x = Dropout(.4)(x)\n",
        "    x = Dense(2000, activation=('relu'))(x)\n",
        "    x = Dropout(.3)(x)\n",
        "    x = Dense(1000,activation=('relu'))(x)\n",
        "    x = Dropout(.3)(x)\n",
        "    x = Dense(500, activation=('relu'))(x)\n",
        "    main = Dense(83, activation=('softmax'), name='main_out')(x)\n",
        "    side = CenterLossLayer(alpha=0.5, name='centerlosslayer')([x, labels])\n",
        "    return main, side"
      ],
      "metadata": {
        "id": "KOjjwV_ajoJt"
      },
      "execution_count": null,
      "outputs": []
    },
    {
      "cell_type": "code",
      "source": [
        "main_input = base_model.input\n",
        "aux_input = Input((83,))\n",
        "final_output, side_output = ir_model(base_model.input, aux_input)\n",
        "model = Model(inputs=[main_input, aux_input], outputs=[final_output, side_output])"
      ],
      "metadata": {
        "colab": {
          "base_uri": "https://localhost:8080/"
        },
        "id": "3Pf-eXIElycN",
        "outputId": "0fb2b9ec-b8ce-4f08-8a66-3c8de356db28"
      },
      "execution_count": null,
      "outputs": [
        {
          "output_type": "stream",
          "name": "stderr",
          "text": [
            "WARNING:tensorflow:`add_update` `inputs` kwarg has been deprecated. You no longer need to pass a value to `inputs` as it is being automatically inferred.\n"
          ]
        },
        {
          "output_type": "stream",
          "name": "stdout",
          "text": [
            "<tf.Variable 'centerlosslayer/centers:0' shape=(83, 500) dtype=float32>\n",
            "Tensor(\"centerlosslayer/truediv_1:0\", shape=(None, 1), dtype=float32)\n"
          ]
        }
      ]
    },
    {
      "cell_type": "code",
      "source": [
        "def zero_loss(y_true, y_pred):\n",
        "    return 0.5 * K.sum(y_pred, axis=0)"
      ],
      "metadata": {
        "id": "K86OiGF-W1RE"
      },
      "execution_count": null,
      "outputs": []
    },
    {
      "cell_type": "code",
      "source": [
        "batch_size= 128\n",
        "epochs=50\n",
        "learn_rate=.003\n",
        "lambda_centerloss = 0.1\n",
        "\n",
        "for layer in base_model.layers:\n",
        "    layer.trainable = False\n",
        "\n",
        "# adam=Adam(learning_rate=learn_rate, beta_1=0.9, beta_2=0.999, epsilon=None, decay=0.0, amsgrad=False)\n",
        "# model.compile(optimizer=adam,loss='categorical_crossentropy',metrics=['accuracy'])\n",
        "optim =SGD(lr=learn_rate, momentum=0.9)\n",
        "model.compile(optimizer=optim,\n",
        "                  loss=[losses.categorical_crossentropy, zero_loss],\n",
        "                  loss_weights=[1, lambda_centerloss])"
      ],
      "metadata": {
        "id": "odgEyoOnDlNj"
      },
      "execution_count": null,
      "outputs": []
    },
    {
      "cell_type": "code",
      "source": [
        "history =  model.fit_generator(generator=train_gen, validation_data=val_gen, epochs=epochs)"
      ],
      "metadata": {
        "colab": {
          "base_uri": "https://localhost:8080/"
        },
        "id": "cHFnGnZuILu5",
        "outputId": "6535e10b-dc74-4b54-f37c-6ae8f5ce8c43"
      },
      "execution_count": null,
      "outputs": [
        {
          "metadata": {
            "tags": null
          },
          "name": "stderr",
          "output_type": "stream",
          "text": [
            "/usr/local/lib/python3.7/dist-packages/ipykernel_launcher.py:1: UserWarning: `Model.fit_generator` is deprecated and will be removed in a future version. Please use `Model.fit`, which supports generators.\n",
            "  \"\"\"Entry point for launching an IPython kernel.\n"
          ]
        },
        {
          "metadata": {
            "tags": null
          },
          "name": "stdout",
          "output_type": "stream",
          "text": [
            "Epoch 1/50\n"
          ]
        },
        {
          "metadata": {
            "tags": null
          },
          "name": "stderr",
          "output_type": "stream",
          "text": [
            "WARNING:tensorflow:`add_update` `inputs` kwarg has been deprecated. You no longer need to pass a value to `inputs` as it is being automatically inferred.\n"
          ]
        },
        {
          "metadata": {
            "tags": null
          },
          "name": "stdout",
          "output_type": "stream",
          "text": [
            "<tf.Variable 'centerlosslayer/centers:0' shape=(83, 500) dtype=float32>\n",
            "Tensor(\"model/centerlosslayer/truediv_1:0\", shape=(None, 1), dtype=float32)\n"
          ]
        },
        {
          "metadata": {
            "tags": null
          },
          "name": "stderr",
          "output_type": "stream",
          "text": [
            "WARNING:tensorflow:`add_update` `inputs` kwarg has been deprecated. You no longer need to pass a value to `inputs` as it is being automatically inferred.\n"
          ]
        },
        {
          "metadata": {
            "tags": null
          },
          "name": "stdout",
          "output_type": "stream",
          "text": [
            "<tf.Variable 'centerlosslayer/centers:0' shape=(83, 500) dtype=float32>\n",
            "Tensor(\"model/centerlosslayer/truediv_1:0\", shape=(None, 1), dtype=float32)\n",
            "44/44 [==============================] - ETA: 0s - loss: 4.7582 - main_out_loss: 4.4384 - centerlosslayer_loss: 3.1972"
          ]
        },
        {
          "metadata": {
            "tags": null
          },
          "name": "stderr",
          "output_type": "stream",
          "text": [
            "WARNING:tensorflow:`add_update` `inputs` kwarg has been deprecated. You no longer need to pass a value to `inputs` as it is being automatically inferred.\n"
          ]
        },
        {
          "output_type": "stream",
          "name": "stdout",
          "text": [
            "<tf.Variable 'centerlosslayer/centers:0' shape=(83, 500) dtype=float32>\n",
            "Tensor(\"model/centerlosslayer/truediv_1:0\", shape=(None, 1), dtype=float32)\n",
            "44/44 [==============================] - 117s 1s/step - loss: 4.7582 - main_out_loss: 4.4384 - centerlosslayer_loss: 3.1972 - val_loss: 4.4158 - val_main_out_loss: 4.4088 - val_centerlosslayer_loss: 0.0697\n",
            "Epoch 2/50\n",
            "44/44 [==============================] - 62s 1s/step - loss: 4.4169 - main_out_loss: 4.4013 - centerlosslayer_loss: 0.1563 - val_loss: 4.4093 - val_main_out_loss: 4.4027 - val_centerlosslayer_loss: 0.0655\n",
            "Epoch 3/50\n",
            "44/44 [==============================] - 62s 1s/step - loss: 4.4091 - main_out_loss: 4.3978 - centerlosslayer_loss: 0.1127 - val_loss: 4.4046 - val_main_out_loss: 4.3985 - val_centerlosslayer_loss: 0.0612\n",
            "Epoch 4/50\n",
            "44/44 [==============================] - 62s 1s/step - loss: 4.4013 - main_out_loss: 4.3892 - centerlosslayer_loss: 0.1210 - val_loss: 4.3881 - val_main_out_loss: 4.3771 - val_centerlosslayer_loss: 0.1094\n",
            "Epoch 5/50\n",
            "44/44 [==============================] - 62s 1s/step - loss: 4.3940 - main_out_loss: 4.3780 - centerlosslayer_loss: 0.1593 - val_loss: 4.3865 - val_main_out_loss: 4.3788 - val_centerlosslayer_loss: 0.0775\n",
            "Epoch 6/50\n",
            "44/44 [==============================] - 62s 1s/step - loss: 4.3877 - main_out_loss: 4.3695 - centerlosslayer_loss: 0.1817 - val_loss: 4.3824 - val_main_out_loss: 4.3748 - val_centerlosslayer_loss: 0.0767\n",
            "Epoch 7/50\n",
            "44/44 [==============================] - 62s 1s/step - loss: 4.3863 - main_out_loss: 4.3734 - centerlosslayer_loss: 0.1288 - val_loss: 4.3796 - val_main_out_loss: 4.3722 - val_centerlosslayer_loss: 0.0741\n",
            "Epoch 8/50\n",
            "44/44 [==============================] - 62s 1s/step - loss: 4.3793 - main_out_loss: 4.3647 - centerlosslayer_loss: 0.1464 - val_loss: 4.3719 - val_main_out_loss: 4.3636 - val_centerlosslayer_loss: 0.0834\n",
            "Epoch 9/50\n",
            "44/44 [==============================] - 62s 1s/step - loss: 4.3719 - main_out_loss: 4.3541 - centerlosslayer_loss: 0.1783 - val_loss: 4.3602 - val_main_out_loss: 4.3481 - val_centerlosslayer_loss: 0.1212\n",
            "Epoch 10/50\n",
            "44/44 [==============================] - 62s 1s/step - loss: 4.3683 - main_out_loss: 4.3527 - centerlosslayer_loss: 0.1556 - val_loss: 4.3541 - val_main_out_loss: 4.3413 - val_centerlosslayer_loss: 0.1279\n",
            "Epoch 11/50\n",
            "44/44 [==============================] - 62s 1s/step - loss: 4.3642 - main_out_loss: 4.3498 - centerlosslayer_loss: 0.1437 - val_loss: 4.3612 - val_main_out_loss: 4.3535 - val_centerlosslayer_loss: 0.0765\n",
            "Epoch 12/50\n",
            "44/44 [==============================] - 62s 1s/step - loss: 4.3625 - main_out_loss: 4.3542 - centerlosslayer_loss: 0.0839 - val_loss: 4.3528 - val_main_out_loss: 4.3437 - val_centerlosslayer_loss: 0.0910\n",
            "Epoch 13/50\n",
            "44/44 [==============================] - 63s 1s/step - loss: 4.3557 - main_out_loss: 4.3458 - centerlosslayer_loss: 0.0994 - val_loss: 4.3461 - val_main_out_loss: 4.3355 - val_centerlosslayer_loss: 0.1061\n",
            "Epoch 14/50\n",
            "44/44 [==============================] - 63s 1s/step - loss: 4.3504 - main_out_loss: 4.3388 - centerlosslayer_loss: 0.1156 - val_loss: 4.3404 - val_main_out_loss: 4.3282 - val_centerlosslayer_loss: 0.1218\n",
            "Epoch 15/50\n",
            "44/44 [==============================] - 63s 1s/step - loss: 4.3461 - main_out_loss: 4.3329 - centerlosslayer_loss: 0.1315 - val_loss: 4.3357 - val_main_out_loss: 4.3220 - val_centerlosslayer_loss: 0.1370\n",
            "Epoch 16/50\n",
            "44/44 [==============================] - 63s 1s/step - loss: 4.3422 - main_out_loss: 4.3276 - centerlosslayer_loss: 0.1462 - val_loss: 4.3318 - val_main_out_loss: 4.3168 - val_centerlosslayer_loss: 0.1501\n",
            "Epoch 17/50\n",
            "44/44 [==============================] - 63s 1s/step - loss: 4.3392 - main_out_loss: 4.3233 - centerlosslayer_loss: 0.1590 - val_loss: 4.3284 - val_main_out_loss: 4.3122 - val_centerlosslayer_loss: 0.1621\n",
            "Epoch 18/50\n",
            "44/44 [==============================] - 63s 1s/step - loss: 4.3368 - main_out_loss: 4.3199 - centerlosslayer_loss: 0.1684 - val_loss: 4.3259 - val_main_out_loss: 4.3090 - val_centerlosslayer_loss: 0.1699\n",
            "Epoch 19/50\n",
            "44/44 [==============================] - 63s 1s/step - loss: 4.3350 - main_out_loss: 4.3172 - centerlosslayer_loss: 0.1780 - val_loss: 4.3237 - val_main_out_loss: 4.3058 - val_centerlosslayer_loss: 0.1786\n",
            "Epoch 20/50\n",
            "44/44 [==============================] - 62s 1s/step - loss: 4.3334 - main_out_loss: 4.3149 - centerlosslayer_loss: 0.1851 - val_loss: 4.3217 - val_main_out_loss: 4.3034 - val_centerlosslayer_loss: 0.1832\n",
            "Epoch 21/50\n",
            "44/44 [==============================] - 62s 1s/step - loss: 4.3319 - main_out_loss: 4.3131 - centerlosslayer_loss: 0.1878 - val_loss: 4.3202 - val_main_out_loss: 4.3016 - val_centerlosslayer_loss: 0.1866\n",
            "Epoch 22/50\n",
            "44/44 [==============================] - 62s 1s/step - loss: 4.3305 - main_out_loss: 4.3115 - centerlosslayer_loss: 0.1908 - val_loss: 4.3189 - val_main_out_loss: 4.3001 - val_centerlosslayer_loss: 0.1883\n",
            "Epoch 23/50\n",
            "44/44 [==============================] - 63s 1s/step - loss: 4.3293 - main_out_loss: 4.3100 - centerlosslayer_loss: 0.1930 - val_loss: 4.3177 - val_main_out_loss: 4.2987 - val_centerlosslayer_loss: 0.1900\n",
            "Epoch 24/50\n",
            "44/44 [==============================] - 62s 1s/step - loss: 4.3285 - main_out_loss: 4.3093 - centerlosslayer_loss: 0.1925 - val_loss: 4.3166 - val_main_out_loss: 4.2977 - val_centerlosslayer_loss: 0.1896\n",
            "Epoch 25/50\n",
            "44/44 [==============================] - 63s 1s/step - loss: 4.3275 - main_out_loss: 4.3081 - centerlosslayer_loss: 0.1940 - val_loss: 4.3156 - val_main_out_loss: 4.2966 - val_centerlosslayer_loss: 0.1905\n",
            "Epoch 26/50\n",
            "44/44 [==============================] - 62s 1s/step - loss: 4.3269 - main_out_loss: 4.3075 - centerlosslayer_loss: 0.1941 - val_loss: 4.3147 - val_main_out_loss: 4.2958 - val_centerlosslayer_loss: 0.1890\n",
            "Epoch 27/50\n",
            "44/44 [==============================] - 62s 1s/step - loss: 4.3261 - main_out_loss: 4.3070 - centerlosslayer_loss: 0.1911 - val_loss: 4.3139 - val_main_out_loss: 4.2953 - val_centerlosslayer_loss: 0.1866\n",
            "Epoch 28/50\n",
            "44/44 [==============================] - 63s 1s/step - loss: 4.3253 - main_out_loss: 4.3063 - centerlosslayer_loss: 0.1897 - val_loss: 4.3131 - val_main_out_loss: 4.2945 - val_centerlosslayer_loss: 0.1859\n",
            "Epoch 29/50\n",
            "44/44 [==============================] - 62s 1s/step - loss: 4.3246 - main_out_loss: 4.3057 - centerlosslayer_loss: 0.1887 - val_loss: 4.3125 - val_main_out_loss: 4.2941 - val_centerlosslayer_loss: 0.1834\n",
            "Epoch 30/50\n",
            "44/44 [==============================] - 63s 1s/step - loss: 4.3241 - main_out_loss: 4.3056 - centerlosslayer_loss: 0.1850 - val_loss: 4.3118 - val_main_out_loss: 4.2938 - val_centerlosslayer_loss: 0.1802\n",
            "Epoch 31/50\n",
            "44/44 [==============================] - 63s 1s/step - loss: 4.3233 - main_out_loss: 4.3050 - centerlosslayer_loss: 0.1831 - val_loss: 4.3113 - val_main_out_loss: 4.2934 - val_centerlosslayer_loss: 0.1789\n",
            "Epoch 32/50\n",
            "44/44 [==============================] - 63s 1s/step - loss: 4.3225 - main_out_loss: 4.3043 - centerlosslayer_loss: 0.1819 - val_loss: 4.3105 - val_main_out_loss: 4.2927 - val_centerlosslayer_loss: 0.1777\n",
            "Epoch 33/50\n",
            "44/44 [==============================] - 63s 1s/step - loss: 4.3223 - main_out_loss: 4.3042 - centerlosslayer_loss: 0.1817 - val_loss: 4.3100 - val_main_out_loss: 4.2923 - val_centerlosslayer_loss: 0.1769\n",
            "Epoch 34/50\n",
            "44/44 [==============================] - 62s 1s/step - loss: 4.3218 - main_out_loss: 4.3039 - centerlosslayer_loss: 0.1792 - val_loss: 4.3095 - val_main_out_loss: 4.2921 - val_centerlosslayer_loss: 0.1743\n",
            "Epoch 35/50\n",
            "44/44 [==============================] - 65s 1s/step - loss: 4.3213 - main_out_loss: 4.3037 - centerlosslayer_loss: 0.1758 - val_loss: 4.3091 - val_main_out_loss: 4.2920 - val_centerlosslayer_loss: 0.1703\n",
            "Epoch 36/50\n",
            "44/44 [==============================] - 62s 1s/step - loss: 4.3206 - main_out_loss: 4.3034 - centerlosslayer_loss: 0.1719 - val_loss: 4.3087 - val_main_out_loss: 4.2923 - val_centerlosslayer_loss: 0.1638\n",
            "Epoch 37/50\n",
            "44/44 [==============================] - 62s 1s/step - loss: 4.3206 - main_out_loss: 4.3035 - centerlosslayer_loss: 0.1710 - val_loss: 4.3081 - val_main_out_loss: 4.2915 - val_centerlosslayer_loss: 0.1663\n",
            "Epoch 38/50\n",
            "44/44 [==============================] - 62s 1s/step - loss: 4.3202 - main_out_loss: 4.3032 - centerlosslayer_loss: 0.1703 - val_loss: 4.3076 - val_main_out_loss: 4.2909 - val_centerlosslayer_loss: 0.1668\n",
            "Epoch 39/50\n",
            "44/44 [==============================] - 62s 1s/step - loss: 4.3195 - main_out_loss: 4.3029 - centerlosslayer_loss: 0.1664 - val_loss: 4.3073 - val_main_out_loss: 4.2911 - val_centerlosslayer_loss: 0.1627\n",
            "Epoch 40/50\n",
            "44/44 [==============================] - 62s 1s/step - loss: 4.3187 - main_out_loss: 4.3022 - centerlosslayer_loss: 0.1651 - val_loss: 4.3069 - val_main_out_loss: 4.2908 - val_centerlosslayer_loss: 0.1616\n",
            "Epoch 41/50\n",
            "44/44 [==============================] - 62s 1s/step - loss: 4.3186 - main_out_loss: 4.3021 - centerlosslayer_loss: 0.1650 - val_loss: 4.3066 - val_main_out_loss: 4.2905 - val_centerlosslayer_loss: 0.1609\n",
            "Epoch 42/50\n",
            "44/44 [==============================] - 62s 1s/step - loss: 4.3180 - main_out_loss: 4.3018 - centerlosslayer_loss: 0.1621 - val_loss: 4.3062 - val_main_out_loss: 4.2903 - val_centerlosslayer_loss: 0.1593\n",
            "Epoch 43/50\n",
            "44/44 [==============================] - 62s 1s/step - loss: 4.3177 - main_out_loss: 4.3016 - centerlosslayer_loss: 0.1609 - val_loss: 4.3058 - val_main_out_loss: 4.2900 - val_centerlosslayer_loss: 0.1574\n",
            "Epoch 44/50\n",
            "44/44 [==============================] - 62s 1s/step - loss: 4.3177 - main_out_loss: 4.3017 - centerlosslayer_loss: 0.1603 - val_loss: 4.3055 - val_main_out_loss: 4.2899 - val_centerlosslayer_loss: 0.1561\n",
            "Epoch 45/50\n",
            "44/44 [==============================] - 62s 1s/step - loss: 4.3172 - main_out_loss: 4.3015 - centerlosslayer_loss: 0.1572 - val_loss: 4.3053 - val_main_out_loss: 4.2899 - val_centerlosslayer_loss: 0.1536\n",
            "Epoch 46/50\n",
            "44/44 [==============================] - 62s 1s/step - loss: 4.3168 - main_out_loss: 4.3013 - centerlosslayer_loss: 0.1552 - val_loss: 4.3050 - val_main_out_loss: 4.2897 - val_centerlosslayer_loss: 0.1526\n",
            "Epoch 47/50\n",
            "44/44 [==============================] - 62s 1s/step - loss: 4.3166 - main_out_loss: 4.3013 - centerlosslayer_loss: 0.1535 - val_loss: 4.3047 - val_main_out_loss: 4.2896 - val_centerlosslayer_loss: 0.1507\n",
            "Epoch 48/50\n",
            "44/44 [==============================] - 62s 1s/step - loss: 4.3163 - main_out_loss: 4.3012 - centerlosslayer_loss: 0.1515 - val_loss: 4.3044 - val_main_out_loss: 4.2896 - val_centerlosslayer_loss: 0.1485\n",
            "Epoch 49/50\n",
            "44/44 [==============================] - 62s 1s/step - loss: 4.3158 - main_out_loss: 4.3008 - centerlosslayer_loss: 0.1503 - val_loss: 4.3041 - val_main_out_loss: 4.2893 - val_centerlosslayer_loss: 0.1477\n",
            "Epoch 50/50\n",
            "44/44 [==============================] - 62s 1s/step - loss: 4.3158 - main_out_loss: 4.3008 - centerlosslayer_loss: 0.1501 - val_loss: 4.3038 - val_main_out_loss: 4.2891 - val_centerlosslayer_loss: 0.1472\n"
          ]
        }
      ]
    },
    {
      "cell_type": "code",
      "source": [
        "model.summary()"
      ],
      "metadata": {
        "colab": {
          "base_uri": "https://localhost:8080/"
        },
        "id": "FblkyUBeyJS2",
        "outputId": "336d6136-af66-46cc-8e76-9a040ee0a7d0"
      },
      "execution_count": null,
      "outputs": [
        {
          "output_type": "stream",
          "name": "stdout",
          "text": [
            "Model: \"model\"\n",
            "__________________________________________________________________________________________________\n",
            " Layer (type)                   Output Shape         Param #     Connected to                     \n",
            "==================================================================================================\n",
            " input_7 (InputLayer)           [(None, 100, 100, 3  0           []                               \n",
            "                                )]                                                                \n",
            "                                                                                                  \n",
            " conv1_pad (ZeroPadding2D)      (None, 106, 106, 3)  0           ['input_7[0][0]']                \n",
            "                                                                                                  \n",
            " conv1_conv (Conv2D)            (None, 50, 50, 64)   9472        ['conv1_pad[0][0]']              \n",
            "                                                                                                  \n",
            " conv1_bn (BatchNormalization)  (None, 50, 50, 64)   256         ['conv1_conv[0][0]']             \n",
            "                                                                                                  \n",
            " conv1_relu (Activation)        (None, 50, 50, 64)   0           ['conv1_bn[0][0]']               \n",
            "                                                                                                  \n",
            " pool1_pad (ZeroPadding2D)      (None, 52, 52, 64)   0           ['conv1_relu[0][0]']             \n",
            "                                                                                                  \n",
            " pool1_pool (MaxPooling2D)      (None, 25, 25, 64)   0           ['pool1_pad[0][0]']              \n",
            "                                                                                                  \n",
            " conv2_block1_1_conv (Conv2D)   (None, 25, 25, 64)   4160        ['pool1_pool[0][0]']             \n",
            "                                                                                                  \n",
            " conv2_block1_1_bn (BatchNormal  (None, 25, 25, 64)  256         ['conv2_block1_1_conv[0][0]']    \n",
            " ization)                                                                                         \n",
            "                                                                                                  \n",
            " conv2_block1_1_relu (Activatio  (None, 25, 25, 64)  0           ['conv2_block1_1_bn[0][0]']      \n",
            " n)                                                                                               \n",
            "                                                                                                  \n",
            " conv2_block1_2_conv (Conv2D)   (None, 25, 25, 64)   36928       ['conv2_block1_1_relu[0][0]']    \n",
            "                                                                                                  \n",
            " conv2_block1_2_bn (BatchNormal  (None, 25, 25, 64)  256         ['conv2_block1_2_conv[0][0]']    \n",
            " ization)                                                                                         \n",
            "                                                                                                  \n",
            " conv2_block1_2_relu (Activatio  (None, 25, 25, 64)  0           ['conv2_block1_2_bn[0][0]']      \n",
            " n)                                                                                               \n",
            "                                                                                                  \n",
            " conv2_block1_0_conv (Conv2D)   (None, 25, 25, 256)  16640       ['pool1_pool[0][0]']             \n",
            "                                                                                                  \n",
            " conv2_block1_3_conv (Conv2D)   (None, 25, 25, 256)  16640       ['conv2_block1_2_relu[0][0]']    \n",
            "                                                                                                  \n",
            " conv2_block1_0_bn (BatchNormal  (None, 25, 25, 256)  1024       ['conv2_block1_0_conv[0][0]']    \n",
            " ization)                                                                                         \n",
            "                                                                                                  \n",
            " conv2_block1_3_bn (BatchNormal  (None, 25, 25, 256)  1024       ['conv2_block1_3_conv[0][0]']    \n",
            " ization)                                                                                         \n",
            "                                                                                                  \n",
            " conv2_block1_add (Add)         (None, 25, 25, 256)  0           ['conv2_block1_0_bn[0][0]',      \n",
            "                                                                  'conv2_block1_3_bn[0][0]']      \n",
            "                                                                                                  \n",
            " conv2_block1_out (Activation)  (None, 25, 25, 256)  0           ['conv2_block1_add[0][0]']       \n",
            "                                                                                                  \n",
            " conv2_block2_1_conv (Conv2D)   (None, 25, 25, 64)   16448       ['conv2_block1_out[0][0]']       \n",
            "                                                                                                  \n",
            " conv2_block2_1_bn (BatchNormal  (None, 25, 25, 64)  256         ['conv2_block2_1_conv[0][0]']    \n",
            " ization)                                                                                         \n",
            "                                                                                                  \n",
            " conv2_block2_1_relu (Activatio  (None, 25, 25, 64)  0           ['conv2_block2_1_bn[0][0]']      \n",
            " n)                                                                                               \n",
            "                                                                                                  \n",
            " conv2_block2_2_conv (Conv2D)   (None, 25, 25, 64)   36928       ['conv2_block2_1_relu[0][0]']    \n",
            "                                                                                                  \n",
            " conv2_block2_2_bn (BatchNormal  (None, 25, 25, 64)  256         ['conv2_block2_2_conv[0][0]']    \n",
            " ization)                                                                                         \n",
            "                                                                                                  \n",
            " conv2_block2_2_relu (Activatio  (None, 25, 25, 64)  0           ['conv2_block2_2_bn[0][0]']      \n",
            " n)                                                                                               \n",
            "                                                                                                  \n",
            " conv2_block2_3_conv (Conv2D)   (None, 25, 25, 256)  16640       ['conv2_block2_2_relu[0][0]']    \n",
            "                                                                                                  \n",
            " conv2_block2_3_bn (BatchNormal  (None, 25, 25, 256)  1024       ['conv2_block2_3_conv[0][0]']    \n",
            " ization)                                                                                         \n",
            "                                                                                                  \n",
            " conv2_block2_add (Add)         (None, 25, 25, 256)  0           ['conv2_block1_out[0][0]',       \n",
            "                                                                  'conv2_block2_3_bn[0][0]']      \n",
            "                                                                                                  \n",
            " conv2_block2_out (Activation)  (None, 25, 25, 256)  0           ['conv2_block2_add[0][0]']       \n",
            "                                                                                                  \n",
            " conv2_block3_1_conv (Conv2D)   (None, 25, 25, 64)   16448       ['conv2_block2_out[0][0]']       \n",
            "                                                                                                  \n",
            " conv2_block3_1_bn (BatchNormal  (None, 25, 25, 64)  256         ['conv2_block3_1_conv[0][0]']    \n",
            " ization)                                                                                         \n",
            "                                                                                                  \n",
            " conv2_block3_1_relu (Activatio  (None, 25, 25, 64)  0           ['conv2_block3_1_bn[0][0]']      \n",
            " n)                                                                                               \n",
            "                                                                                                  \n",
            " conv2_block3_2_conv (Conv2D)   (None, 25, 25, 64)   36928       ['conv2_block3_1_relu[0][0]']    \n",
            "                                                                                                  \n",
            " conv2_block3_2_bn (BatchNormal  (None, 25, 25, 64)  256         ['conv2_block3_2_conv[0][0]']    \n",
            " ization)                                                                                         \n",
            "                                                                                                  \n",
            " conv2_block3_2_relu (Activatio  (None, 25, 25, 64)  0           ['conv2_block3_2_bn[0][0]']      \n",
            " n)                                                                                               \n",
            "                                                                                                  \n",
            " conv2_block3_3_conv (Conv2D)   (None, 25, 25, 256)  16640       ['conv2_block3_2_relu[0][0]']    \n",
            "                                                                                                  \n",
            " conv2_block3_3_bn (BatchNormal  (None, 25, 25, 256)  1024       ['conv2_block3_3_conv[0][0]']    \n",
            " ization)                                                                                         \n",
            "                                                                                                  \n",
            " conv2_block3_add (Add)         (None, 25, 25, 256)  0           ['conv2_block2_out[0][0]',       \n",
            "                                                                  'conv2_block3_3_bn[0][0]']      \n",
            "                                                                                                  \n",
            " conv2_block3_out (Activation)  (None, 25, 25, 256)  0           ['conv2_block3_add[0][0]']       \n",
            "                                                                                                  \n",
            " conv3_block1_1_conv (Conv2D)   (None, 13, 13, 128)  32896       ['conv2_block3_out[0][0]']       \n",
            "                                                                                                  \n",
            " conv3_block1_1_bn (BatchNormal  (None, 13, 13, 128)  512        ['conv3_block1_1_conv[0][0]']    \n",
            " ization)                                                                                         \n",
            "                                                                                                  \n",
            " conv3_block1_1_relu (Activatio  (None, 13, 13, 128)  0          ['conv3_block1_1_bn[0][0]']      \n",
            " n)                                                                                               \n",
            "                                                                                                  \n",
            " conv3_block1_2_conv (Conv2D)   (None, 13, 13, 128)  147584      ['conv3_block1_1_relu[0][0]']    \n",
            "                                                                                                  \n",
            " conv3_block1_2_bn (BatchNormal  (None, 13, 13, 128)  512        ['conv3_block1_2_conv[0][0]']    \n",
            " ization)                                                                                         \n",
            "                                                                                                  \n",
            " conv3_block1_2_relu (Activatio  (None, 13, 13, 128)  0          ['conv3_block1_2_bn[0][0]']      \n",
            " n)                                                                                               \n",
            "                                                                                                  \n",
            " conv3_block1_0_conv (Conv2D)   (None, 13, 13, 512)  131584      ['conv2_block3_out[0][0]']       \n",
            "                                                                                                  \n",
            " conv3_block1_3_conv (Conv2D)   (None, 13, 13, 512)  66048       ['conv3_block1_2_relu[0][0]']    \n",
            "                                                                                                  \n",
            " conv3_block1_0_bn (BatchNormal  (None, 13, 13, 512)  2048       ['conv3_block1_0_conv[0][0]']    \n",
            " ization)                                                                                         \n",
            "                                                                                                  \n",
            " conv3_block1_3_bn (BatchNormal  (None, 13, 13, 512)  2048       ['conv3_block1_3_conv[0][0]']    \n",
            " ization)                                                                                         \n",
            "                                                                                                  \n",
            " conv3_block1_add (Add)         (None, 13, 13, 512)  0           ['conv3_block1_0_bn[0][0]',      \n",
            "                                                                  'conv3_block1_3_bn[0][0]']      \n",
            "                                                                                                  \n",
            " conv3_block1_out (Activation)  (None, 13, 13, 512)  0           ['conv3_block1_add[0][0]']       \n",
            "                                                                                                  \n",
            " conv3_block2_1_conv (Conv2D)   (None, 13, 13, 128)  65664       ['conv3_block1_out[0][0]']       \n",
            "                                                                                                  \n",
            " conv3_block2_1_bn (BatchNormal  (None, 13, 13, 128)  512        ['conv3_block2_1_conv[0][0]']    \n",
            " ization)                                                                                         \n",
            "                                                                                                  \n",
            " conv3_block2_1_relu (Activatio  (None, 13, 13, 128)  0          ['conv3_block2_1_bn[0][0]']      \n",
            " n)                                                                                               \n",
            "                                                                                                  \n",
            " conv3_block2_2_conv (Conv2D)   (None, 13, 13, 128)  147584      ['conv3_block2_1_relu[0][0]']    \n",
            "                                                                                                  \n",
            " conv3_block2_2_bn (BatchNormal  (None, 13, 13, 128)  512        ['conv3_block2_2_conv[0][0]']    \n",
            " ization)                                                                                         \n",
            "                                                                                                  \n",
            " conv3_block2_2_relu (Activatio  (None, 13, 13, 128)  0          ['conv3_block2_2_bn[0][0]']      \n",
            " n)                                                                                               \n",
            "                                                                                                  \n",
            " conv3_block2_3_conv (Conv2D)   (None, 13, 13, 512)  66048       ['conv3_block2_2_relu[0][0]']    \n",
            "                                                                                                  \n",
            " conv3_block2_3_bn (BatchNormal  (None, 13, 13, 512)  2048       ['conv3_block2_3_conv[0][0]']    \n",
            " ization)                                                                                         \n",
            "                                                                                                  \n",
            " conv3_block2_add (Add)         (None, 13, 13, 512)  0           ['conv3_block1_out[0][0]',       \n",
            "                                                                  'conv3_block2_3_bn[0][0]']      \n",
            "                                                                                                  \n",
            " conv3_block2_out (Activation)  (None, 13, 13, 512)  0           ['conv3_block2_add[0][0]']       \n",
            "                                                                                                  \n",
            " conv3_block3_1_conv (Conv2D)   (None, 13, 13, 128)  65664       ['conv3_block2_out[0][0]']       \n",
            "                                                                                                  \n",
            " conv3_block3_1_bn (BatchNormal  (None, 13, 13, 128)  512        ['conv3_block3_1_conv[0][0]']    \n",
            " ization)                                                                                         \n",
            "                                                                                                  \n",
            " conv3_block3_1_relu (Activatio  (None, 13, 13, 128)  0          ['conv3_block3_1_bn[0][0]']      \n",
            " n)                                                                                               \n",
            "                                                                                                  \n",
            " conv3_block3_2_conv (Conv2D)   (None, 13, 13, 128)  147584      ['conv3_block3_1_relu[0][0]']    \n",
            "                                                                                                  \n",
            " conv3_block3_2_bn (BatchNormal  (None, 13, 13, 128)  512        ['conv3_block3_2_conv[0][0]']    \n",
            " ization)                                                                                         \n",
            "                                                                                                  \n",
            " conv3_block3_2_relu (Activatio  (None, 13, 13, 128)  0          ['conv3_block3_2_bn[0][0]']      \n",
            " n)                                                                                               \n",
            "                                                                                                  \n",
            " conv3_block3_3_conv (Conv2D)   (None, 13, 13, 512)  66048       ['conv3_block3_2_relu[0][0]']    \n",
            "                                                                                                  \n",
            " conv3_block3_3_bn (BatchNormal  (None, 13, 13, 512)  2048       ['conv3_block3_3_conv[0][0]']    \n",
            " ization)                                                                                         \n",
            "                                                                                                  \n",
            " conv3_block3_add (Add)         (None, 13, 13, 512)  0           ['conv3_block2_out[0][0]',       \n",
            "                                                                  'conv3_block3_3_bn[0][0]']      \n",
            "                                                                                                  \n",
            " conv3_block3_out (Activation)  (None, 13, 13, 512)  0           ['conv3_block3_add[0][0]']       \n",
            "                                                                                                  \n",
            " conv3_block4_1_conv (Conv2D)   (None, 13, 13, 128)  65664       ['conv3_block3_out[0][0]']       \n",
            "                                                                                                  \n",
            " conv3_block4_1_bn (BatchNormal  (None, 13, 13, 128)  512        ['conv3_block4_1_conv[0][0]']    \n",
            " ization)                                                                                         \n",
            "                                                                                                  \n",
            " conv3_block4_1_relu (Activatio  (None, 13, 13, 128)  0          ['conv3_block4_1_bn[0][0]']      \n",
            " n)                                                                                               \n",
            "                                                                                                  \n",
            " conv3_block4_2_conv (Conv2D)   (None, 13, 13, 128)  147584      ['conv3_block4_1_relu[0][0]']    \n",
            "                                                                                                  \n",
            " conv3_block4_2_bn (BatchNormal  (None, 13, 13, 128)  512        ['conv3_block4_2_conv[0][0]']    \n",
            " ization)                                                                                         \n",
            "                                                                                                  \n",
            " conv3_block4_2_relu (Activatio  (None, 13, 13, 128)  0          ['conv3_block4_2_bn[0][0]']      \n",
            " n)                                                                                               \n",
            "                                                                                                  \n",
            " conv3_block4_3_conv (Conv2D)   (None, 13, 13, 512)  66048       ['conv3_block4_2_relu[0][0]']    \n",
            "                                                                                                  \n",
            " conv3_block4_3_bn (BatchNormal  (None, 13, 13, 512)  2048       ['conv3_block4_3_conv[0][0]']    \n",
            " ization)                                                                                         \n",
            "                                                                                                  \n",
            " conv3_block4_add (Add)         (None, 13, 13, 512)  0           ['conv3_block3_out[0][0]',       \n",
            "                                                                  'conv3_block4_3_bn[0][0]']      \n",
            "                                                                                                  \n",
            " conv3_block4_out (Activation)  (None, 13, 13, 512)  0           ['conv3_block4_add[0][0]']       \n",
            "                                                                                                  \n",
            " conv4_block1_1_conv (Conv2D)   (None, 7, 7, 256)    131328      ['conv3_block4_out[0][0]']       \n",
            "                                                                                                  \n",
            " conv4_block1_1_bn (BatchNormal  (None, 7, 7, 256)   1024        ['conv4_block1_1_conv[0][0]']    \n",
            " ization)                                                                                         \n",
            "                                                                                                  \n",
            " conv4_block1_1_relu (Activatio  (None, 7, 7, 256)   0           ['conv4_block1_1_bn[0][0]']      \n",
            " n)                                                                                               \n",
            "                                                                                                  \n",
            " conv4_block1_2_conv (Conv2D)   (None, 7, 7, 256)    590080      ['conv4_block1_1_relu[0][0]']    \n",
            "                                                                                                  \n",
            " conv4_block1_2_bn (BatchNormal  (None, 7, 7, 256)   1024        ['conv4_block1_2_conv[0][0]']    \n",
            " ization)                                                                                         \n",
            "                                                                                                  \n",
            " conv4_block1_2_relu (Activatio  (None, 7, 7, 256)   0           ['conv4_block1_2_bn[0][0]']      \n",
            " n)                                                                                               \n",
            "                                                                                                  \n",
            " conv4_block1_0_conv (Conv2D)   (None, 7, 7, 1024)   525312      ['conv3_block4_out[0][0]']       \n",
            "                                                                                                  \n",
            " conv4_block1_3_conv (Conv2D)   (None, 7, 7, 1024)   263168      ['conv4_block1_2_relu[0][0]']    \n",
            "                                                                                                  \n",
            " conv4_block1_0_bn (BatchNormal  (None, 7, 7, 1024)  4096        ['conv4_block1_0_conv[0][0]']    \n",
            " ization)                                                                                         \n",
            "                                                                                                  \n",
            " conv4_block1_3_bn (BatchNormal  (None, 7, 7, 1024)  4096        ['conv4_block1_3_conv[0][0]']    \n",
            " ization)                                                                                         \n",
            "                                                                                                  \n",
            " conv4_block1_add (Add)         (None, 7, 7, 1024)   0           ['conv4_block1_0_bn[0][0]',      \n",
            "                                                                  'conv4_block1_3_bn[0][0]']      \n",
            "                                                                                                  \n",
            " conv4_block1_out (Activation)  (None, 7, 7, 1024)   0           ['conv4_block1_add[0][0]']       \n",
            "                                                                                                  \n",
            " conv4_block2_1_conv (Conv2D)   (None, 7, 7, 256)    262400      ['conv4_block1_out[0][0]']       \n",
            "                                                                                                  \n",
            " conv4_block2_1_bn (BatchNormal  (None, 7, 7, 256)   1024        ['conv4_block2_1_conv[0][0]']    \n",
            " ization)                                                                                         \n",
            "                                                                                                  \n",
            " conv4_block2_1_relu (Activatio  (None, 7, 7, 256)   0           ['conv4_block2_1_bn[0][0]']      \n",
            " n)                                                                                               \n",
            "                                                                                                  \n",
            " conv4_block2_2_conv (Conv2D)   (None, 7, 7, 256)    590080      ['conv4_block2_1_relu[0][0]']    \n",
            "                                                                                                  \n",
            " conv4_block2_2_bn (BatchNormal  (None, 7, 7, 256)   1024        ['conv4_block2_2_conv[0][0]']    \n",
            " ization)                                                                                         \n",
            "                                                                                                  \n",
            " conv4_block2_2_relu (Activatio  (None, 7, 7, 256)   0           ['conv4_block2_2_bn[0][0]']      \n",
            " n)                                                                                               \n",
            "                                                                                                  \n",
            " conv4_block2_3_conv (Conv2D)   (None, 7, 7, 1024)   263168      ['conv4_block2_2_relu[0][0]']    \n",
            "                                                                                                  \n",
            " conv4_block2_3_bn (BatchNormal  (None, 7, 7, 1024)  4096        ['conv4_block2_3_conv[0][0]']    \n",
            " ization)                                                                                         \n",
            "                                                                                                  \n",
            " conv4_block2_add (Add)         (None, 7, 7, 1024)   0           ['conv4_block1_out[0][0]',       \n",
            "                                                                  'conv4_block2_3_bn[0][0]']      \n",
            "                                                                                                  \n",
            " conv4_block2_out (Activation)  (None, 7, 7, 1024)   0           ['conv4_block2_add[0][0]']       \n",
            "                                                                                                  \n",
            " conv4_block3_1_conv (Conv2D)   (None, 7, 7, 256)    262400      ['conv4_block2_out[0][0]']       \n",
            "                                                                                                  \n",
            " conv4_block3_1_bn (BatchNormal  (None, 7, 7, 256)   1024        ['conv4_block3_1_conv[0][0]']    \n",
            " ization)                                                                                         \n",
            "                                                                                                  \n",
            " conv4_block3_1_relu (Activatio  (None, 7, 7, 256)   0           ['conv4_block3_1_bn[0][0]']      \n",
            " n)                                                                                               \n",
            "                                                                                                  \n",
            " conv4_block3_2_conv (Conv2D)   (None, 7, 7, 256)    590080      ['conv4_block3_1_relu[0][0]']    \n",
            "                                                                                                  \n",
            " conv4_block3_2_bn (BatchNormal  (None, 7, 7, 256)   1024        ['conv4_block3_2_conv[0][0]']    \n",
            " ization)                                                                                         \n",
            "                                                                                                  \n",
            " conv4_block3_2_relu (Activatio  (None, 7, 7, 256)   0           ['conv4_block3_2_bn[0][0]']      \n",
            " n)                                                                                               \n",
            "                                                                                                  \n",
            " conv4_block3_3_conv (Conv2D)   (None, 7, 7, 1024)   263168      ['conv4_block3_2_relu[0][0]']    \n",
            "                                                                                                  \n",
            " conv4_block3_3_bn (BatchNormal  (None, 7, 7, 1024)  4096        ['conv4_block3_3_conv[0][0]']    \n",
            " ization)                                                                                         \n",
            "                                                                                                  \n",
            " conv4_block3_add (Add)         (None, 7, 7, 1024)   0           ['conv4_block2_out[0][0]',       \n",
            "                                                                  'conv4_block3_3_bn[0][0]']      \n",
            "                                                                                                  \n",
            " conv4_block3_out (Activation)  (None, 7, 7, 1024)   0           ['conv4_block3_add[0][0]']       \n",
            "                                                                                                  \n",
            " conv4_block4_1_conv (Conv2D)   (None, 7, 7, 256)    262400      ['conv4_block3_out[0][0]']       \n",
            "                                                                                                  \n",
            " conv4_block4_1_bn (BatchNormal  (None, 7, 7, 256)   1024        ['conv4_block4_1_conv[0][0]']    \n",
            " ization)                                                                                         \n",
            "                                                                                                  \n",
            " conv4_block4_1_relu (Activatio  (None, 7, 7, 256)   0           ['conv4_block4_1_bn[0][0]']      \n",
            " n)                                                                                               \n",
            "                                                                                                  \n",
            " conv4_block4_2_conv (Conv2D)   (None, 7, 7, 256)    590080      ['conv4_block4_1_relu[0][0]']    \n",
            "                                                                                                  \n",
            " conv4_block4_2_bn (BatchNormal  (None, 7, 7, 256)   1024        ['conv4_block4_2_conv[0][0]']    \n",
            " ization)                                                                                         \n",
            "                                                                                                  \n",
            " conv4_block4_2_relu (Activatio  (None, 7, 7, 256)   0           ['conv4_block4_2_bn[0][0]']      \n",
            " n)                                                                                               \n",
            "                                                                                                  \n",
            " conv4_block4_3_conv (Conv2D)   (None, 7, 7, 1024)   263168      ['conv4_block4_2_relu[0][0]']    \n",
            "                                                                                                  \n",
            " conv4_block4_3_bn (BatchNormal  (None, 7, 7, 1024)  4096        ['conv4_block4_3_conv[0][0]']    \n",
            " ization)                                                                                         \n",
            "                                                                                                  \n",
            " conv4_block4_add (Add)         (None, 7, 7, 1024)   0           ['conv4_block3_out[0][0]',       \n",
            "                                                                  'conv4_block4_3_bn[0][0]']      \n",
            "                                                                                                  \n",
            " conv4_block4_out (Activation)  (None, 7, 7, 1024)   0           ['conv4_block4_add[0][0]']       \n",
            "                                                                                                  \n",
            " conv4_block5_1_conv (Conv2D)   (None, 7, 7, 256)    262400      ['conv4_block4_out[0][0]']       \n",
            "                                                                                                  \n",
            " conv4_block5_1_bn (BatchNormal  (None, 7, 7, 256)   1024        ['conv4_block5_1_conv[0][0]']    \n",
            " ization)                                                                                         \n",
            "                                                                                                  \n",
            " conv4_block5_1_relu (Activatio  (None, 7, 7, 256)   0           ['conv4_block5_1_bn[0][0]']      \n",
            " n)                                                                                               \n",
            "                                                                                                  \n",
            " conv4_block5_2_conv (Conv2D)   (None, 7, 7, 256)    590080      ['conv4_block5_1_relu[0][0]']    \n",
            "                                                                                                  \n",
            " conv4_block5_2_bn (BatchNormal  (None, 7, 7, 256)   1024        ['conv4_block5_2_conv[0][0]']    \n",
            " ization)                                                                                         \n",
            "                                                                                                  \n",
            " conv4_block5_2_relu (Activatio  (None, 7, 7, 256)   0           ['conv4_block5_2_bn[0][0]']      \n",
            " n)                                                                                               \n",
            "                                                                                                  \n",
            " conv4_block5_3_conv (Conv2D)   (None, 7, 7, 1024)   263168      ['conv4_block5_2_relu[0][0]']    \n",
            "                                                                                                  \n",
            " conv4_block5_3_bn (BatchNormal  (None, 7, 7, 1024)  4096        ['conv4_block5_3_conv[0][0]']    \n",
            " ization)                                                                                         \n",
            "                                                                                                  \n",
            " conv4_block5_add (Add)         (None, 7, 7, 1024)   0           ['conv4_block4_out[0][0]',       \n",
            "                                                                  'conv4_block5_3_bn[0][0]']      \n",
            "                                                                                                  \n",
            " conv4_block5_out (Activation)  (None, 7, 7, 1024)   0           ['conv4_block5_add[0][0]']       \n",
            "                                                                                                  \n",
            " conv4_block6_1_conv (Conv2D)   (None, 7, 7, 256)    262400      ['conv4_block5_out[0][0]']       \n",
            "                                                                                                  \n",
            " conv4_block6_1_bn (BatchNormal  (None, 7, 7, 256)   1024        ['conv4_block6_1_conv[0][0]']    \n",
            " ization)                                                                                         \n",
            "                                                                                                  \n",
            " conv4_block6_1_relu (Activatio  (None, 7, 7, 256)   0           ['conv4_block6_1_bn[0][0]']      \n",
            " n)                                                                                               \n",
            "                                                                                                  \n",
            " conv4_block6_2_conv (Conv2D)   (None, 7, 7, 256)    590080      ['conv4_block6_1_relu[0][0]']    \n",
            "                                                                                                  \n",
            " conv4_block6_2_bn (BatchNormal  (None, 7, 7, 256)   1024        ['conv4_block6_2_conv[0][0]']    \n",
            " ization)                                                                                         \n",
            "                                                                                                  \n",
            " conv4_block6_2_relu (Activatio  (None, 7, 7, 256)   0           ['conv4_block6_2_bn[0][0]']      \n",
            " n)                                                                                               \n",
            "                                                                                                  \n",
            " conv4_block6_3_conv (Conv2D)   (None, 7, 7, 1024)   263168      ['conv4_block6_2_relu[0][0]']    \n",
            "                                                                                                  \n",
            " conv4_block6_3_bn (BatchNormal  (None, 7, 7, 1024)  4096        ['conv4_block6_3_conv[0][0]']    \n",
            " ization)                                                                                         \n",
            "                                                                                                  \n",
            " conv4_block6_add (Add)         (None, 7, 7, 1024)   0           ['conv4_block5_out[0][0]',       \n",
            "                                                                  'conv4_block6_3_bn[0][0]']      \n",
            "                                                                                                  \n",
            " conv4_block6_out (Activation)  (None, 7, 7, 1024)   0           ['conv4_block6_add[0][0]']       \n",
            "                                                                                                  \n",
            " conv5_block1_1_conv (Conv2D)   (None, 4, 4, 512)    524800      ['conv4_block6_out[0][0]']       \n",
            "                                                                                                  \n",
            " conv5_block1_1_bn (BatchNormal  (None, 4, 4, 512)   2048        ['conv5_block1_1_conv[0][0]']    \n",
            " ization)                                                                                         \n",
            "                                                                                                  \n",
            " conv5_block1_1_relu (Activatio  (None, 4, 4, 512)   0           ['conv5_block1_1_bn[0][0]']      \n",
            " n)                                                                                               \n",
            "                                                                                                  \n",
            " conv5_block1_2_conv (Conv2D)   (None, 4, 4, 512)    2359808     ['conv5_block1_1_relu[0][0]']    \n",
            "                                                                                                  \n",
            " conv5_block1_2_bn (BatchNormal  (None, 4, 4, 512)   2048        ['conv5_block1_2_conv[0][0]']    \n",
            " ization)                                                                                         \n",
            "                                                                                                  \n",
            " conv5_block1_2_relu (Activatio  (None, 4, 4, 512)   0           ['conv5_block1_2_bn[0][0]']      \n",
            " n)                                                                                               \n",
            "                                                                                                  \n",
            " conv5_block1_0_conv (Conv2D)   (None, 4, 4, 2048)   2099200     ['conv4_block6_out[0][0]']       \n",
            "                                                                                                  \n",
            " conv5_block1_3_conv (Conv2D)   (None, 4, 4, 2048)   1050624     ['conv5_block1_2_relu[0][0]']    \n",
            "                                                                                                  \n",
            " conv5_block1_0_bn (BatchNormal  (None, 4, 4, 2048)  8192        ['conv5_block1_0_conv[0][0]']    \n",
            " ization)                                                                                         \n",
            "                                                                                                  \n",
            " conv5_block1_3_bn (BatchNormal  (None, 4, 4, 2048)  8192        ['conv5_block1_3_conv[0][0]']    \n",
            " ization)                                                                                         \n",
            "                                                                                                  \n",
            " conv5_block1_add (Add)         (None, 4, 4, 2048)   0           ['conv5_block1_0_bn[0][0]',      \n",
            "                                                                  'conv5_block1_3_bn[0][0]']      \n",
            "                                                                                                  \n",
            " conv5_block1_out (Activation)  (None, 4, 4, 2048)   0           ['conv5_block1_add[0][0]']       \n",
            "                                                                                                  \n",
            " conv5_block2_1_conv (Conv2D)   (None, 4, 4, 512)    1049088     ['conv5_block1_out[0][0]']       \n",
            "                                                                                                  \n",
            " conv5_block2_1_bn (BatchNormal  (None, 4, 4, 512)   2048        ['conv5_block2_1_conv[0][0]']    \n",
            " ization)                                                                                         \n",
            "                                                                                                  \n",
            " conv5_block2_1_relu (Activatio  (None, 4, 4, 512)   0           ['conv5_block2_1_bn[0][0]']      \n",
            " n)                                                                                               \n",
            "                                                                                                  \n",
            " conv5_block2_2_conv (Conv2D)   (None, 4, 4, 512)    2359808     ['conv5_block2_1_relu[0][0]']    \n",
            "                                                                                                  \n",
            " conv5_block2_2_bn (BatchNormal  (None, 4, 4, 512)   2048        ['conv5_block2_2_conv[0][0]']    \n",
            " ization)                                                                                         \n",
            "                                                                                                  \n",
            " conv5_block2_2_relu (Activatio  (None, 4, 4, 512)   0           ['conv5_block2_2_bn[0][0]']      \n",
            " n)                                                                                               \n",
            "                                                                                                  \n",
            " conv5_block2_3_conv (Conv2D)   (None, 4, 4, 2048)   1050624     ['conv5_block2_2_relu[0][0]']    \n",
            "                                                                                                  \n",
            " conv5_block2_3_bn (BatchNormal  (None, 4, 4, 2048)  8192        ['conv5_block2_3_conv[0][0]']    \n",
            " ization)                                                                                         \n",
            "                                                                                                  \n",
            " conv5_block2_add (Add)         (None, 4, 4, 2048)   0           ['conv5_block1_out[0][0]',       \n",
            "                                                                  'conv5_block2_3_bn[0][0]']      \n",
            "                                                                                                  \n",
            " conv5_block2_out (Activation)  (None, 4, 4, 2048)   0           ['conv5_block2_add[0][0]']       \n",
            "                                                                                                  \n",
            " conv5_block3_1_conv (Conv2D)   (None, 4, 4, 512)    1049088     ['conv5_block2_out[0][0]']       \n",
            "                                                                                                  \n",
            " conv5_block3_1_bn (BatchNormal  (None, 4, 4, 512)   2048        ['conv5_block3_1_conv[0][0]']    \n",
            " ization)                                                                                         \n",
            "                                                                                                  \n",
            " conv5_block3_1_relu (Activatio  (None, 4, 4, 512)   0           ['conv5_block3_1_bn[0][0]']      \n",
            " n)                                                                                               \n",
            "                                                                                                  \n",
            " conv5_block3_2_conv (Conv2D)   (None, 4, 4, 512)    2359808     ['conv5_block3_1_relu[0][0]']    \n",
            "                                                                                                  \n",
            " conv5_block3_2_bn (BatchNormal  (None, 4, 4, 512)   2048        ['conv5_block3_2_conv[0][0]']    \n",
            " ization)                                                                                         \n",
            "                                                                                                  \n",
            " conv5_block3_2_relu (Activatio  (None, 4, 4, 512)   0           ['conv5_block3_2_bn[0][0]']      \n",
            " n)                                                                                               \n",
            "                                                                                                  \n",
            " conv5_block3_3_conv (Conv2D)   (None, 4, 4, 2048)   1050624     ['conv5_block3_2_relu[0][0]']    \n",
            "                                                                                                  \n",
            " conv5_block3_3_bn (BatchNormal  (None, 4, 4, 2048)  8192        ['conv5_block3_3_conv[0][0]']    \n",
            " ization)                                                                                         \n",
            "                                                                                                  \n",
            " conv5_block3_add (Add)         (None, 4, 4, 2048)   0           ['conv5_block2_out[0][0]',       \n",
            "                                                                  'conv5_block3_3_bn[0][0]']      \n",
            "                                                                                                  \n",
            " conv5_block3_out (Activation)  (None, 4, 4, 2048)   0           ['conv5_block3_add[0][0]']       \n",
            "                                                                                                  \n",
            " flatten (Flatten)              (None, 32768)        0           ['conv5_block3_out[0][0]']       \n",
            "                                                                                                  \n",
            " dense (Dense)                  (None, 4000)         131076000   ['flatten[0][0]']                \n",
            "                                                                                                  \n",
            " dropout (Dropout)              (None, 4000)         0           ['dense[0][0]']                  \n",
            "                                                                                                  \n",
            " dense_1 (Dense)                (None, 2000)         8002000     ['dropout[0][0]']                \n",
            "                                                                                                  \n",
            " dropout_1 (Dropout)            (None, 2000)         0           ['dense_1[0][0]']                \n",
            "                                                                                                  \n",
            " dense_2 (Dense)                (None, 1000)         2001000     ['dropout_1[0][0]']              \n",
            "                                                                                                  \n",
            " dropout_2 (Dropout)            (None, 1000)         0           ['dense_2[0][0]']                \n",
            "                                                                                                  \n",
            " dense_3 (Dense)                (None, 500)          500500      ['dropout_2[0][0]']              \n",
            "                                                                                                  \n",
            " input_1 (InputLayer)           [(None, 83)]         0           []                               \n",
            "                                                                                                  \n",
            " main_out (Dense)               (None, 83)           41583       ['dense_3[0][0]']                \n",
            "                                                                                                  \n",
            " centerlosslayer (CenterLossLay  (None, 1)           41500       ['dense_3[0][0]',                \n",
            " er)                                                              'input_1[0][0]']                \n",
            "                                                                                                  \n",
            "==================================================================================================\n",
            "Total params: 165,250,295\n",
            "Trainable params: 141,621,083\n",
            "Non-trainable params: 23,629,212\n",
            "__________________________________________________________________________________________________\n"
          ]
        }
      ]
    },
    {
      "cell_type": "code",
      "source": [
        "# STEP_SIZE_TRAIN=train_generator.n//train_generator.batch_size\n",
        "# STEP_SIZE_VALID=valid_generator.n//valid_generator.batch_size\n",
        "# STEP_SIZE_TEST=test_generator.n//test_generator.batch_size\n",
        "\n",
        "# history =  model.fit_generator(generator=train_generator,\n",
        "#                     steps_per_epoch=STEP_SIZE_TRAIN,\n",
        "#                     validation_data=valid_generator,\n",
        "#                     validation_steps=STEP_SIZE_VALID,\n",
        "#                     epochs=50\n",
        "# )"
      ],
      "metadata": {
        "id": "iSfaRI9p9Q0A"
      },
      "execution_count": null,
      "outputs": []
    },
    {
      "cell_type": "code",
      "source": [
        "STEP_SIZE_TRAIN=train_generator.n//train_generator.batch_size\n",
        "STEP_SIZE_VALID=valid_generator.n//valid_generator.batch_size\n",
        "# STEP_SIZE_TEST=test_generator.n//test_generator.batch_size\n",
        "\n",
        "history =  model.fit([train_generator, train_generator.labels], [train_generator, dummy1], batch_size=batch_size,\n",
        "              epochs=epochs,\n",
        "              verbose=2, validation_data=([valid_generator, valid_generator.labels], [valid_generator.labels, dummy2]))"
      ],
      "metadata": {
        "id": "mpdhlQxg1l33"
      },
      "execution_count": null,
      "outputs": []
    },
    {
      "cell_type": "code",
      "source": [
        "dictLables = {}\n",
        "for i, key in enumerate(labels):\n",
        "    if(key in dictLables):\n",
        "        dictLables[key].append(i + 1)\n",
        "    else:\n",
        "        dictLables[key] = [i + 1]"
      ],
      "metadata": {
        "id": "YYKAJWAW2afY"
      },
      "execution_count": null,
      "outputs": []
    },
    {
      "cell_type": "code",
      "source": [
        "def createDifPairs(dictLables, firstLable, secondLabel):\n",
        "    difPairs = []\n",
        "    for i in dictLables[firstLable]:\n",
        "        for j in dictLables[secondLabel]:\n",
        "            difPairs.append([i, j])\n",
        "\n",
        "    return difPairs\n",
        "\n",
        "def createSamePairs(dictLables, label):\n",
        "    samePairs = []\n",
        "    for i in range(len(dictLables[label])):\n",
        "        for j in range(i, len(dictLables[label])):\n",
        "            if(i == j): continue\n",
        "            samePairs.append([dictLables[label][i], dictLables[label][j]])\n",
        "\n",
        "    return samePairs\n",
        "\n",
        "def makeDataSetPairs(dict):\n",
        "    diffPairs = []\n",
        "    samePairs = []\n",
        "\n",
        "    samePairsCount = 0\n",
        "    for label in dict.keys():\n",
        "        samePairsCount += int(len(dict[label]) * (len(dict[label]) - 1) / 2)\n",
        "        samePairs.extend(createSamePairs(dict, label))\n",
        "\n",
        "    for i in range(len(dict)):\n",
        "        for j in range(i+1 , len(dict)):\n",
        "            diffPairs.extend(createDifPairs(dict, list(dict.keys())[i], list(dict.keys())[j]))\n",
        "\n",
        "    random.seed(43)\n",
        "    diffPairs = random.sample(diffPairs, samePairsCount)\n",
        "\n",
        "    return samePairs, diffPairs\n",
        "\n",
        "def makeImagePath(imgNumber):\n",
        "    imgNumber = str(imgNumber)\n",
        "    while(len(imgNumber) < 5):\n",
        "        imgNumber = '0' + imgNumber\n",
        "    imagePath = f'{BASE_ADDRESS}/image_{imgNumber}.jpg'\n",
        "    return imagePath\n",
        "\n",
        "def extractPixels(imgNumber):\n",
        "    imgPath = makeImagePath(imgNumber)\n",
        "    # img = kImage.load_img(imgPath, target_size=(500, 500))\n",
        "    # x = kImage.img_to_array(img)\n",
        "\n",
        "    im = pImage.open(imgPath)\n",
        "    im = im.resize((500, 500))\n",
        "    x = np.asarray(im)\n",
        "    im.close()\n",
        "\n",
        "    # x = np.expand_dims(x, axis=0)\n",
        "    # x = preprocess_input(x)\n",
        "\n",
        "    # global model\n",
        "    # features = model.predict(x)\n",
        "\n",
        "    # return features.flatten()\n",
        "    return x"
      ],
      "metadata": {
        "id": "DYp5T-ki2sfS"
      },
      "execution_count": null,
      "outputs": []
    },
    {
      "cell_type": "code",
      "source": [
        "model_feature_extractor = Model(\n",
        "   inputs=model.inputs,\n",
        "   outputs=model.get_layer(name=\"dense_3\").output,\n",
        ")"
      ],
      "metadata": {
        "id": "_yxIZPibANzV"
      },
      "execution_count": null,
      "outputs": []
    },
    {
      "cell_type": "code",
      "source": [
        "def extractFeatures(imgNumber):\n",
        "    imgPath = makeImagePath(imgNumber)\n",
        "    img = kImage.load_img(imgPath, target_size=(100, 100))\n",
        "    x = kImage.img_to_array(img)\n",
        "    x = np.expand_dims(x, axis=0)\n",
        "\n",
        "    # x = preprocess_input(x)\n",
        "\n",
        "    features = np.asarray(model_feature_extractor([x, np.zeros((1,1))]))\n",
        "\n",
        "    return features"
      ],
      "metadata": {
        "id": "dnVs96dMEUQ7"
      },
      "execution_count": null,
      "outputs": []
    },
    {
      "cell_type": "code",
      "source": [
        "extractFeatures(2)"
      ],
      "metadata": {
        "colab": {
          "base_uri": "https://localhost:8080/"
        },
        "id": "NEXfEbEdErMe",
        "outputId": "88395f10-b558-475b-bb79-c921c092041c"
      },
      "execution_count": null,
      "outputs": [
        {
          "output_type": "execute_result",
          "data": {
            "text/plain": [
              "array([[0.        , 0.1910317 , 0.        , 0.        , 0.4061473 ,\n",
              "        0.02568424, 0.        , 0.        , 0.        , 0.        ,\n",
              "        0.09569201, 0.        , 0.        , 0.        , 0.        ,\n",
              "        0.28727245, 0.        , 0.7749237 , 0.        , 0.        ,\n",
              "        0.15597507, 0.05983474, 0.        , 0.        , 0.        ,\n",
              "        0.        , 0.49819276, 0.        , 0.        , 0.        ,\n",
              "        0.        , 0.        , 0.        , 0.        , 0.        ,\n",
              "        0.        , 0.        , 0.4257535 , 0.        , 0.        ,\n",
              "        0.1407171 , 0.2279123 , 0.        , 0.        , 0.        ,\n",
              "        0.        , 0.10918953, 0.        , 0.        , 1.2565144 ,\n",
              "        0.        , 0.        , 0.25665188, 0.        , 0.        ,\n",
              "        0.        , 0.        , 0.        , 0.5595671 , 0.50580907,\n",
              "        0.        , 0.        , 0.        , 1.0421464 , 0.        ,\n",
              "        0.        , 0.02982666, 0.        , 0.33983004, 0.        ,\n",
              "        0.        , 0.03167821, 0.        , 0.        , 0.        ,\n",
              "        0.654299  , 0.34530237, 0.        , 0.        , 0.86353594,\n",
              "        0.        , 1.1191994 , 0.        , 0.21092196, 1.8299389 ,\n",
              "        0.        , 0.34148073, 0.        , 0.17982738, 0.        ,\n",
              "        0.        , 0.        , 0.        , 0.9659988 , 0.        ,\n",
              "        0.        , 0.4602309 , 0.66002405, 0.        , 0.48546022,\n",
              "        1.0690762 , 0.        , 0.        , 0.        , 0.        ,\n",
              "        0.        , 0.        , 0.46684724, 0.        , 0.        ,\n",
              "        0.        , 0.        , 0.        , 0.        , 0.        ,\n",
              "        0.        , 0.77791804, 0.14848328, 0.04670008, 0.5253389 ,\n",
              "        0.        , 0.        , 0.        , 0.        , 0.        ,\n",
              "        0.        , 0.        , 0.        , 0.        , 0.        ,\n",
              "        0.        , 0.12191751, 0.        , 0.        , 0.52803534,\n",
              "        0.        , 0.        , 0.        , 0.        , 0.        ,\n",
              "        0.        , 0.        , 0.33996287, 0.        , 0.        ,\n",
              "        0.        , 0.        , 0.        , 0.        , 0.        ,\n",
              "        0.382902  , 0.        , 0.        , 0.        , 0.30981216,\n",
              "        0.        , 0.        , 0.        , 0.        , 0.19668415,\n",
              "        0.18776238, 1.1280893 , 0.        , 0.        , 0.        ,\n",
              "        0.        , 0.95081955, 0.        , 0.        , 0.        ,\n",
              "        0.        , 0.        , 0.10319542, 0.7105424 , 0.        ,\n",
              "        0.45554727, 0.        , 0.        , 0.        , 0.        ,\n",
              "        0.        , 0.3071421 , 0.        , 0.0475791 , 0.        ,\n",
              "        0.        , 0.        , 0.        , 0.        , 0.        ,\n",
              "        0.        , 0.        , 0.        , 0.        , 0.        ,\n",
              "        0.        , 0.        , 0.        , 0.14234598, 0.        ,\n",
              "        0.6011129 , 0.38685054, 0.        , 0.        , 0.        ,\n",
              "        0.        , 0.        , 0.        , 0.        , 0.        ,\n",
              "        0.        , 0.        , 0.29935753, 0.        , 0.01270379,\n",
              "        0.        , 0.        , 0.        , 0.17784654, 0.        ,\n",
              "        0.        , 0.        , 0.26166117, 0.30931818, 0.        ,\n",
              "        0.        , 0.        , 0.        , 0.17827004, 0.        ,\n",
              "        0.20404159, 0.        , 0.        , 0.        , 0.        ,\n",
              "        0.        , 0.        , 0.3005651 , 0.        , 0.        ,\n",
              "        0.8622286 , 0.4072078 , 0.3043203 , 0.        , 0.        ,\n",
              "        0.        , 0.        , 0.        , 0.31506625, 0.        ,\n",
              "        0.        , 0.382713  , 0.        , 1.0633911 , 0.        ,\n",
              "        0.20176366, 0.        , 0.        , 0.        , 0.        ,\n",
              "        0.        , 0.        , 0.        , 0.        , 0.22083375,\n",
              "        0.        , 0.        , 0.        , 0.        , 0.        ,\n",
              "        0.        , 0.634754  , 0.        , 0.        , 0.        ,\n",
              "        0.8802946 , 0.        , 0.        , 0.2597283 , 0.03889599,\n",
              "        0.        , 0.1365107 , 0.        , 0.        , 0.        ,\n",
              "        0.        , 0.        , 0.18315333, 0.        , 0.        ,\n",
              "        0.        , 0.        , 0.        , 0.        , 0.54180795,\n",
              "        0.        , 0.        , 0.        , 0.7427209 , 0.9114877 ,\n",
              "        0.        , 0.        , 0.        , 0.7244614 , 0.        ,\n",
              "        0.        , 0.        , 0.        , 0.89089155, 0.06743922,\n",
              "        0.        , 0.        , 0.60249686, 0.        , 0.        ,\n",
              "        0.2715103 , 0.        , 0.        , 0.        , 0.        ,\n",
              "        0.        , 0.        , 0.        , 0.        , 0.341874  ,\n",
              "        0.        , 0.        , 0.        , 0.07302585, 0.        ,\n",
              "        0.        , 0.        , 0.14470771, 0.        , 0.        ,\n",
              "        0.6466142 , 0.        , 0.        , 0.        , 0.        ,\n",
              "        0.        , 0.42594576, 0.34127936, 0.        , 0.5750041 ,\n",
              "        0.        , 0.        , 0.        , 0.        , 0.        ,\n",
              "        0.62828094, 0.        , 0.        , 0.        , 0.        ,\n",
              "        0.        , 0.        , 0.        , 0.        , 0.        ,\n",
              "        0.        , 0.        , 0.        , 0.        , 0.        ,\n",
              "        0.2347229 , 0.        , 0.        , 0.        , 0.        ,\n",
              "        0.54250467, 1.4683775 , 0.32068336, 0.25636938, 0.        ,\n",
              "        0.        , 0.        , 0.        , 0.        , 0.        ,\n",
              "        0.        , 0.5291698 , 0.12319122, 0.10703118, 0.        ,\n",
              "        0.        , 0.        , 0.        , 0.        , 0.        ,\n",
              "        0.5059516 , 0.        , 0.        , 0.        , 0.        ,\n",
              "        1.0359712 , 0.        , 0.        , 0.11742458, 0.        ,\n",
              "        0.        , 0.07786655, 0.        , 0.        , 0.9958016 ,\n",
              "        0.        , 0.        , 0.        , 0.        , 0.        ,\n",
              "        0.5130655 , 0.        , 0.51917106, 1.0958248 , 0.        ,\n",
              "        0.        , 0.        , 0.        , 0.32372764, 0.        ,\n",
              "        0.        , 0.        , 0.        , 0.        , 0.        ,\n",
              "        0.        , 0.44788888, 1.1198511 , 0.61398053, 0.        ,\n",
              "        0.446351  , 0.        , 0.        , 0.        , 0.13976969,\n",
              "        0.        , 0.        , 0.        , 0.        , 0.        ,\n",
              "        1.1014704 , 0.        , 0.        , 0.        , 1.0162736 ,\n",
              "        0.        , 0.885867  , 0.        , 0.        , 0.44810095,\n",
              "        0.        , 1.286788  , 0.        , 0.        , 0.        ,\n",
              "        1.3570284 , 1.0482063 , 0.24025415, 0.        , 0.        ,\n",
              "        0.        , 0.        , 0.        , 0.276829  , 0.        ,\n",
              "        0.22945952, 0.        , 0.        , 0.91470236, 0.45965707,\n",
              "        0.        , 0.        , 0.        , 0.        , 0.        ,\n",
              "        0.        , 1.2391286 , 0.        , 0.        , 0.        ,\n",
              "        0.        , 0.        , 0.        , 0.        , 0.        ,\n",
              "        1.9923576 , 0.        , 0.        , 0.        , 2.3552842 ,\n",
              "        0.        , 0.        , 0.        , 1.1655539 , 0.4781229 ,\n",
              "        0.        , 0.        , 0.        , 0.        , 0.77261937]],\n",
              "      dtype=float32)"
            ]
          },
          "metadata": {},
          "execution_count": 223
        }
      ]
    },
    {
      "cell_type": "code",
      "source": [
        "boundry = 20\n",
        "trainLabels = {}\n",
        "testLabels = {}\n",
        "for i in range(len(dictLables)):\n",
        "    if(i < boundry):\n",
        "        testLabels[i+1] = dictLables[i+1]\n",
        "    else:\n",
        "        trainLabels[i+1] = dictLables[i+1]\n",
        "\n",
        "print(len(testLabels))"
      ],
      "metadata": {
        "colab": {
          "base_uri": "https://localhost:8080/"
        },
        "id": "iT3Lxc-12uVo",
        "outputId": "4c540923-3c60-4c4f-a1a1-162f1cfc979d"
      },
      "execution_count": null,
      "outputs": [
        {
          "output_type": "stream",
          "name": "stdout",
          "text": [
            "20\n"
          ]
        }
      ]
    },
    {
      "cell_type": "code",
      "source": [
        "X_image_numbers = []\n",
        "y = []\n",
        "for key in testLabels.keys():\n",
        "  for image in testLabels[key]:\n",
        "    X_image_numbers.append(image)\n",
        "    y.append(key)"
      ],
      "metadata": {
        "id": "hJ7WXIsMoks5"
      },
      "execution_count": null,
      "outputs": []
    },
    {
      "cell_type": "code",
      "source": [
        "len(X_image_numbers)"
      ],
      "metadata": {
        "colab": {
          "base_uri": "https://localhost:8080/"
        },
        "id": "1-A_Vhv76b0u",
        "outputId": "2c040cb3-0685-4abb-a4e6-444f92f8caf7"
      },
      "execution_count": null,
      "outputs": [
        {
          "output_type": "execute_result",
          "data": {
            "text/plain": [
              "1155"
            ]
          },
          "metadata": {},
          "execution_count": 167
        }
      ]
    },
    {
      "cell_type": "code",
      "source": [
        "i = 0\n",
        "imgFeatures = {}\n",
        "for key in testLabels.keys():\n",
        "    for img in testLabels[key]:\n",
        "        features = extractFeatures(img)\n",
        "        imgFeatures[img] = features\n",
        "        i += 1\n",
        "        print(i)"
      ],
      "metadata": {
        "id": "F4SqDQlN_twc"
      },
      "execution_count": null,
      "outputs": []
    },
    {
      "cell_type": "code",
      "source": [
        "imgFeatures[6734]"
      ],
      "metadata": {
        "colab": {
          "base_uri": "https://localhost:8080/"
        },
        "id": "IiEaPrS4C8VS",
        "outputId": "f5fe2f17-f941-4f99-bacc-ac450a66a9e6"
      },
      "execution_count": null,
      "outputs": [
        {
          "output_type": "execute_result",
          "data": {
            "text/plain": [
              "array([[0.        , 0.        , 0.        , 0.        , 0.4326846 ,\n",
              "        0.08462694, 0.        , 0.2623503 , 0.        , 0.        ,\n",
              "        0.        , 0.        , 0.        , 0.        , 0.        ,\n",
              "        0.4343728 , 0.        , 0.5909754 , 0.        , 0.        ,\n",
              "        0.        , 0.        , 0.        , 0.        , 0.        ,\n",
              "        0.        , 0.45989877, 0.        , 0.64317536, 0.04222745,\n",
              "        0.        , 0.08520731, 0.        , 0.        , 0.00656862,\n",
              "        0.        , 0.        , 0.        , 0.        , 0.51657623,\n",
              "        0.1241531 , 0.3399359 , 0.        , 0.        , 0.        ,\n",
              "        0.        , 0.        , 0.        , 0.        , 0.        ,\n",
              "        0.        , 0.        , 0.17755868, 0.        , 0.        ,\n",
              "        0.        , 0.        , 0.        , 0.        , 0.03538603,\n",
              "        0.        , 0.        , 0.        , 1.6120276 , 0.        ,\n",
              "        0.        , 0.        , 0.        , 0.7850155 , 0.        ,\n",
              "        0.        , 0.37727872, 0.        , 0.06528218, 0.        ,\n",
              "        0.506208  , 0.9265847 , 0.        , 0.        , 0.13188103,\n",
              "        0.        , 0.86201775, 0.        , 0.        , 1.7609434 ,\n",
              "        0.        , 1.0227776 , 0.        , 0.46465817, 0.        ,\n",
              "        0.        , 0.        , 0.        , 0.42808932, 0.        ,\n",
              "        0.        , 0.3436874 , 0.        , 0.        , 0.47470012,\n",
              "        0.724991  , 0.        , 0.        , 0.        , 0.        ,\n",
              "        0.2808602 , 0.        , 0.06113131, 0.5829958 , 0.        ,\n",
              "        0.        , 0.        , 0.        , 0.        , 0.        ,\n",
              "        0.        , 0.9837284 , 0.        , 0.        , 0.06901138,\n",
              "        0.        , 0.        , 0.        , 0.        , 0.        ,\n",
              "        0.        , 0.        , 0.        , 0.        , 0.        ,\n",
              "        0.        , 0.        , 0.        , 0.        , 0.        ,\n",
              "        0.4392282 , 0.        , 0.        , 0.        , 0.        ,\n",
              "        0.        , 0.        , 0.        , 0.        , 0.        ,\n",
              "        0.22837217, 0.        , 0.86331797, 0.        , 0.        ,\n",
              "        0.        , 0.        , 0.        , 0.        , 0.17082813,\n",
              "        0.        , 0.        , 0.00529375, 0.        , 1.0322918 ,\n",
              "        0.9770279 , 0.7472559 , 0.        , 0.        , 0.        ,\n",
              "        0.        , 1.2229168 , 0.        , 0.25049773, 0.44199508,\n",
              "        0.        , 0.        , 0.        , 0.        , 0.        ,\n",
              "        0.21581881, 0.        , 0.        , 0.        , 0.        ,\n",
              "        0.        , 0.39808705, 0.        , 0.        , 0.        ,\n",
              "        0.        , 0.        , 0.        , 0.10490113, 0.        ,\n",
              "        0.        , 0.        , 0.        , 0.        , 0.12198997,\n",
              "        0.        , 0.2679662 , 0.        , 0.        , 0.        ,\n",
              "        1.2585803 , 0.7747298 , 0.        , 0.        , 0.        ,\n",
              "        0.        , 0.        , 0.        , 0.        , 0.        ,\n",
              "        0.        , 0.        , 0.        , 0.        , 0.        ,\n",
              "        0.        , 0.        , 0.        , 0.        , 0.        ,\n",
              "        0.        , 0.        , 0.0908739 , 0.72668356, 0.        ,\n",
              "        0.35056764, 0.        , 0.        , 0.24876067, 0.        ,\n",
              "        0.        , 0.25776488, 0.        , 0.        , 0.        ,\n",
              "        0.        , 0.        , 0.        , 0.        , 0.        ,\n",
              "        0.        , 0.15474984, 0.        , 0.16581303, 0.        ,\n",
              "        1.3428894 , 0.        , 0.        , 0.        , 0.        ,\n",
              "        0.        , 0.28039855, 0.        , 0.31561047, 0.        ,\n",
              "        0.        , 0.        , 0.        , 0.        , 0.        ,\n",
              "        0.        , 0.        , 0.29820922, 0.        , 0.        ,\n",
              "        0.        , 0.        , 0.        , 0.        , 0.        ,\n",
              "        0.        , 0.37059838, 0.        , 0.        , 0.        ,\n",
              "        0.0690773 , 0.16323493, 0.        , 0.        , 0.        ,\n",
              "        0.        , 0.        , 0.        , 0.987131  , 0.        ,\n",
              "        0.        , 0.        , 0.8447836 , 0.        , 0.        ,\n",
              "        0.        , 0.        , 0.        , 0.        , 1.3543772 ,\n",
              "        0.5692206 , 0.        , 0.        , 1.5245599 , 0.        ,\n",
              "        0.        , 0.3312816 , 0.        , 0.06067249, 0.        ,\n",
              "        0.        , 0.7775936 , 0.        , 1.0434494 , 0.        ,\n",
              "        0.        , 0.        , 0.9517163 , 0.        , 0.        ,\n",
              "        0.8234274 , 0.        , 0.        , 0.08751761, 0.        ,\n",
              "        0.        , 0.        , 0.        , 0.        , 0.        ,\n",
              "        0.        , 0.        , 0.        , 0.0045332 , 0.14944609,\n",
              "        0.        , 0.        , 0.        , 0.04066405, 0.        ,\n",
              "        0.3010312 , 0.        , 0.        , 0.        , 0.        ,\n",
              "        0.        , 0.        , 0.22853321, 0.        , 0.1421589 ,\n",
              "        0.59459275, 0.        , 0.        , 0.        , 0.18879399,\n",
              "        0.        , 0.        , 0.86978596, 0.        , 0.        ,\n",
              "        0.        , 0.        , 0.        , 0.        , 0.        ,\n",
              "        0.        , 0.        , 0.        , 0.        , 0.        ,\n",
              "        0.        , 0.        , 0.        , 0.35739192, 0.        ,\n",
              "        0.20020443, 0.9087574 , 1.4007152 , 0.        , 0.        ,\n",
              "        0.        , 0.37364492, 0.        , 0.        , 0.        ,\n",
              "        0.3067123 , 0.45106295, 0.24153261, 0.        , 0.        ,\n",
              "        0.        , 0.        , 0.        , 0.        , 0.        ,\n",
              "        0.        , 0.        , 0.        , 0.        , 0.        ,\n",
              "        0.        , 0.        , 0.        , 0.        , 0.        ,\n",
              "        0.        , 0.24346815, 0.26104587, 0.        , 0.14723302,\n",
              "        0.        , 0.        , 0.        , 0.        , 0.        ,\n",
              "        0.        , 0.        , 1.3734181 , 0.0883518 , 0.        ,\n",
              "        0.        , 0.        , 0.        , 0.        , 0.        ,\n",
              "        0.        , 0.        , 0.        , 0.        , 0.        ,\n",
              "        0.        , 0.        , 0.6742074 , 0.        , 0.        ,\n",
              "        0.7012638 , 0.        , 0.        , 0.        , 0.35499263,\n",
              "        0.        , 0.        , 0.        , 0.        , 0.        ,\n",
              "        0.3764532 , 0.        , 0.        , 0.        , 1.2273988 ,\n",
              "        0.        , 0.        , 0.        , 0.        , 0.        ,\n",
              "        0.        , 1.1780176 , 0.        , 0.        , 0.        ,\n",
              "        0.48309094, 1.1284356 , 0.        , 0.20064923, 0.        ,\n",
              "        0.        , 0.01986081, 0.        , 0.        , 0.        ,\n",
              "        0.        , 0.36606503, 0.        , 0.6641796 , 0.9658913 ,\n",
              "        0.        , 0.        , 0.        , 0.        , 0.        ,\n",
              "        0.        , 0.3135676 , 0.        , 0.        , 0.31092918,\n",
              "        0.        , 0.358165  , 0.        , 0.        , 0.        ,\n",
              "        2.0986812 , 0.        , 0.        , 0.03338803, 1.5834345 ,\n",
              "        0.        , 0.        , 0.        , 0.06452512, 0.        ,\n",
              "        0.        , 1.1547217 , 0.        , 0.        , 0.22288232]],\n",
              "      dtype=float32)"
            ]
          },
          "metadata": {},
          "execution_count": 169
        }
      ]
    },
    {
      "cell_type": "code",
      "source": [
        "trainSamePairs, trainDiffPairs = makeDataSetPairs(trainLabels)\n",
        "testSamePairs, testDiffPairs = makeDataSetPairs(testLabels)"
      ],
      "metadata": {
        "id": "nL_eBBhMACtl"
      },
      "execution_count": null,
      "outputs": []
    },
    {
      "cell_type": "code",
      "source": [
        "len(testDiffPairs)"
      ],
      "metadata": {
        "colab": {
          "base_uri": "https://localhost:8080/"
        },
        "id": "xilIGwuMCh5e",
        "outputId": "5279377a-afed-4e79-accb-16c0c64c8ee1"
      },
      "execution_count": null,
      "outputs": [
        {
          "output_type": "execute_result",
          "data": {
            "text/plain": [
              "35704"
            ]
          },
          "metadata": {},
          "execution_count": 171
        }
      ]
    },
    {
      "cell_type": "code",
      "source": [
        "def getEuclideanDistance(firstImage, secondImage, features=None):\n",
        "\n",
        "    if features:\n",
        "        firstImageFeatures = features[firstImage]\n",
        "        secondImageFeatures = features[secondImage]\n",
        "    else:\n",
        "        firstImageFeatures = extractFeatures(firstImage)\n",
        "        secondImageFeatures = extractFeatures(secondImage)\n",
        "    dist = np.linalg.norm(firstImageFeatures - secondImageFeatures)\n",
        "    return dist"
      ],
      "metadata": {
        "id": "wK9U0rtjLHT3"
      },
      "execution_count": null,
      "outputs": []
    },
    {
      "cell_type": "code",
      "source": [
        "from sklearn.metrics.pairwise import cosine_similarity\n",
        "\n",
        "def getCosineSimiliarity(firstImage, secondImage, features=None):\n",
        "\n",
        "    if features:\n",
        "        firstImageFeatures = features[firstImage]\n",
        "        secondImageFeatures = features[secondImage]\n",
        "    else:\n",
        "        firstImageFeatures = extractFeatures(firstImage)\n",
        "        secondImageFeatures = extractFeatures(secondImage)\n",
        "    sim = np.dot(firstImageFeatures, secondImageFeatures.T)/(np.linalg.norm(firstImageFeatures)*np.linalg.norm(secondImageFeatures))\n",
        "    return sim[0][0]"
      ],
      "metadata": {
        "id": "5_Ik67Bq_t30"
      },
      "execution_count": null,
      "outputs": []
    },
    {
      "cell_type": "code",
      "source": [
        "# firstImageFeatures = extractFeatures(1)\n",
        "# secondImageFeatures = extractFeatures(2)\n",
        "# np.multiply(firstImageFeatures, secondImageFeatures)\n",
        "getEuclideanDistance(1, 4)"
      ],
      "metadata": {
        "id": "8HYzAHn5Gn9J"
      },
      "execution_count": null,
      "outputs": []
    },
    {
      "cell_type": "code",
      "source": [
        "samePairCosinSimilarities= []\n",
        "for samePair in testSamePairs:\n",
        "    dist = getEuclideanDistance(samePair[0], samePair[1], imgFeatures)\n",
        "    if(dist == 0):\n",
        "        print(samePair[0], samePair[1])\n",
        "    samePairCosinSimilarities.append(dist)\n",
        "\n",
        "diffPairCosinSimilarities = []\n",
        "for diffPair in testDiffPairs:\n",
        "    dist = getEuclideanDistance(diffPair[0], diffPair[1], imgFeatures)\n",
        "    if(dist == 0):\n",
        "        print('in diff')\n",
        "        print(diffPair[0], diffPair[1])\n",
        "    diffPairCosinSimilarities.append(dist)"
      ],
      "metadata": {
        "id": "_MneEk-VBvll"
      },
      "execution_count": null,
      "outputs": []
    },
    {
      "cell_type": "code",
      "source": [
        "samePairProbs = (1 / np.array(samePairCosinSimilarities)) * 100\n",
        "diffPairProbs = (1 / np.array(diffPairCosinSimilarities)) * 100\n",
        "allProbs = np.concatenate((samePairProbs, diffPairProbs), axis=0)\n",
        "y = np.concatenate((np.ones(samePairProbs.shape), np.zeros(diffPairProbs.shape)), axis=0)\n",
        "\n",
        "fpr, tpr, _ = roc_curve(y,  allProbs)\n",
        "auc = roc_auc_score(y, allProbs)\n",
        "\n",
        "#create ROC curve\n",
        "plt.figure(figsize=(8, 8))\n",
        "plt.plot(fpr,tpr,label=\"AUC=\"+str(auc))\n",
        "plt.plot([0, 1], [0, 1], linestyle='--')\n",
        "plt.ylabel('True Positive Rate')\n",
        "plt.xlabel('False Positive Rate')\n",
        "plt.legend(loc=4)\n",
        "plt.show()"
      ],
      "metadata": {
        "colab": {
          "base_uri": "https://localhost:8080/",
          "height": 497
        },
        "id": "maqt0ZXzB4A_",
        "outputId": "864a8a7f-6085-4867-86c2-f0aa23949ddd"
      },
      "execution_count": null,
      "outputs": [
        {
          "output_type": "display_data",
          "data": {
            "text/plain": [
              "<Figure size 576x576 with 1 Axes>"
            ],
            "image/png": "[encoded data removed]"
          },
          "metadata": {
            "needs_background": "light"
          }
        }
      ]
    },
    {
      "cell_type": "code",
      "source": [
        "np.count_nonzero(samePairCosinSimilarities >= auc)"
      ],
      "metadata": {
        "colab": {
          "base_uri": "https://localhost:8080/"
        },
        "id": "vnd3fifJIMpD",
        "outputId": "50e3cf13-3814-4839-bb6e-20b2c6201e4b"
      },
      "execution_count": null,
      "outputs": [
        {
          "output_type": "execute_result",
          "data": {
            "text/plain": [
              "35704"
            ]
          },
          "metadata": {},
          "execution_count": 233
        }
      ]
    },
    {
      "cell_type": "code",
      "source": [
        "np.count_nonzero(diffPairCosinSimilarities >= auc)"
      ],
      "metadata": {
        "colab": {
          "base_uri": "https://localhost:8080/"
        },
        "id": "MGpRaoY8I7Ag",
        "outputId": "62c89e8d-cfb1-450b-e997-48b8b2e195ed"
      },
      "execution_count": null,
      "outputs": [
        {
          "output_type": "execute_result",
          "data": {
            "text/plain": [
              "35704"
            ]
          },
          "metadata": {},
          "execution_count": 234
        }
      ]
    }
  ]
}